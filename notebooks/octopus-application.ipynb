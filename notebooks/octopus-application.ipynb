{
 "cells": [
  {
   "cell_type": "code",
   "execution_count": 1,
   "metadata": {},
   "outputs": [],
   "source": [
    "import pandas as pd\n",
    "import numpy as np\n",
    "import os"
   ]
  },
  {
   "cell_type": "code",
   "execution_count": 2,
   "metadata": {},
   "outputs": [],
   "source": [
    "path_raw    = '../data/raw/'\n",
    "dirname     = 'titanic/'\n",
    "filename    = 'titanic.csv'"
   ]
  },
  {
   "cell_type": "markdown",
   "metadata": {},
   "source": [
    "## Load data"
   ]
  },
  {
   "cell_type": "code",
   "execution_count": 3,
   "metadata": {},
   "outputs": [],
   "source": [
    "raw_df = pd.read_csv(os.path.join(path_raw, dirname, filename))"
   ]
  },
  {
   "cell_type": "code",
   "execution_count": 4,
   "metadata": {
    "scrolled": false
   },
   "outputs": [],
   "source": [
    "#raw_df.info()"
   ]
  },
  {
   "cell_type": "code",
   "execution_count": 5,
   "metadata": {},
   "outputs": [
    {
     "name": "stdout",
     "output_type": "stream",
     "text": [
      "(891, 12)\n"
     ]
    },
    {
     "data": {
      "text/html": [
       "<div>\n",
       "<style scoped>\n",
       "    .dataframe tbody tr th:only-of-type {\n",
       "        vertical-align: middle;\n",
       "    }\n",
       "\n",
       "    .dataframe tbody tr th {\n",
       "        vertical-align: top;\n",
       "    }\n",
       "\n",
       "    .dataframe thead th {\n",
       "        text-align: right;\n",
       "    }\n",
       "</style>\n",
       "<table border=\"1\" class=\"dataframe\">\n",
       "  <thead>\n",
       "    <tr style=\"text-align: right;\">\n",
       "      <th></th>\n",
       "      <th>PassengerId</th>\n",
       "      <th>Survived</th>\n",
       "      <th>Pclass</th>\n",
       "      <th>Name</th>\n",
       "      <th>Sex</th>\n",
       "      <th>Age</th>\n",
       "      <th>SibSp</th>\n",
       "      <th>Parch</th>\n",
       "      <th>Ticket</th>\n",
       "      <th>Fare</th>\n",
       "      <th>Cabin</th>\n",
       "      <th>Embarked</th>\n",
       "    </tr>\n",
       "  </thead>\n",
       "  <tbody>\n",
       "    <tr>\n",
       "      <th>0</th>\n",
       "      <td>1</td>\n",
       "      <td>0</td>\n",
       "      <td>3</td>\n",
       "      <td>Braund, Mr. Owen Harris</td>\n",
       "      <td>male</td>\n",
       "      <td>22.0</td>\n",
       "      <td>1</td>\n",
       "      <td>0</td>\n",
       "      <td>A/5 21171</td>\n",
       "      <td>7.2500</td>\n",
       "      <td>NaN</td>\n",
       "      <td>S</td>\n",
       "    </tr>\n",
       "    <tr>\n",
       "      <th>1</th>\n",
       "      <td>2</td>\n",
       "      <td>1</td>\n",
       "      <td>1</td>\n",
       "      <td>Cumings, Mrs. John Bradley (Florence Briggs Th...</td>\n",
       "      <td>female</td>\n",
       "      <td>38.0</td>\n",
       "      <td>1</td>\n",
       "      <td>0</td>\n",
       "      <td>PC 17599</td>\n",
       "      <td>71.2833</td>\n",
       "      <td>C85</td>\n",
       "      <td>C</td>\n",
       "    </tr>\n",
       "    <tr>\n",
       "      <th>2</th>\n",
       "      <td>3</td>\n",
       "      <td>1</td>\n",
       "      <td>3</td>\n",
       "      <td>Heikkinen, Miss. Laina</td>\n",
       "      <td>female</td>\n",
       "      <td>26.0</td>\n",
       "      <td>0</td>\n",
       "      <td>0</td>\n",
       "      <td>STON/O2. 3101282</td>\n",
       "      <td>7.9250</td>\n",
       "      <td>NaN</td>\n",
       "      <td>S</td>\n",
       "    </tr>\n",
       "  </tbody>\n",
       "</table>\n",
       "</div>"
      ],
      "text/plain": [
       "   PassengerId  Survived  Pclass  \\\n",
       "0            1         0       3   \n",
       "1            2         1       1   \n",
       "2            3         1       3   \n",
       "\n",
       "                                                Name     Sex   Age  SibSp  \\\n",
       "0                            Braund, Mr. Owen Harris    male  22.0      1   \n",
       "1  Cumings, Mrs. John Bradley (Florence Briggs Th...  female  38.0      1   \n",
       "2                             Heikkinen, Miss. Laina  female  26.0      0   \n",
       "\n",
       "   Parch            Ticket     Fare Cabin Embarked  \n",
       "0      0         A/5 21171   7.2500   NaN        S  \n",
       "1      0          PC 17599  71.2833   C85        C  \n",
       "2      0  STON/O2. 3101282   7.9250   NaN        S  "
      ]
     },
     "execution_count": 5,
     "metadata": {},
     "output_type": "execute_result"
    }
   ],
   "source": [
    "print(raw_df.shape)\n",
    "raw_df.head(3)"
   ]
  },
  {
   "cell_type": "code",
   "execution_count": 6,
   "metadata": {},
   "outputs": [],
   "source": [
    "features_type = {'qualitative': ['PassengerId', \n",
    "                                 #'Survived',\n",
    "                                 'Pclass',\n",
    "                                 'Name',\n",
    "                                 'Sex',                                 \n",
    "                                 'Ticket',\n",
    "                                 'Cabin',\n",
    "                                 'Embarked'\n",
    "                                ],\n",
    "                'quantitative': ['Age',\n",
    "                                 'SibSp',\n",
    "                                 'Parch',\n",
    "                                 'Fare'\n",
    "                                ]\n",
    "                }"
   ]
  },
  {
   "cell_type": "code",
   "execution_count": 7,
   "metadata": {},
   "outputs": [],
   "source": [
    "path_output = '../data/output/titanic/'"
   ]
  },
  {
   "cell_type": "code",
   "execution_count": 14,
   "metadata": {},
   "outputs": [],
   "source": [
    "import sys\n",
    "import os\n",
    "\n",
    "sys.path.append('../src/')\n",
    "\n",
    "from utils import log\n",
    "\n",
    "from preprocessing import preprocess_data\n",
    "from outlier_detection import detect_outliers\n",
    "from statistical_analysis import statistical_analysis\n",
    "\n",
    "class octopus:\n",
    "    \n",
    "    def __init__(self,\n",
    "                 data,\n",
    "                 y_name,\n",
    "                 features_type,\n",
    "                 outliers_method,\n",
    "                 alpha_sta,\n",
    "                 path_output\n",
    "                ):\n",
    "\n",
    "        self.data          = data.copy()\n",
    "        self.y_name        = y_name\n",
    "        self.features_type = features_type.copy()\n",
    "        self.outliers_method = outliers_method\n",
    "        self.alpha         = alpha_sta\n",
    "        self.path_output   = path_output\n",
    "        \n",
    "        self.X = None\n",
    "        self.y = None\n",
    "        \n",
    "        self.html = \"\"\"<html><head>\"\"\"\n",
    "        self.html += \"\"\"<link rel = \"stylesheet\" href = \"style.css\"/>\"\"\"\n",
    "        self.path_html = os.path.join(self.path_output, 'report.html')\n",
    "    \n",
    "    def renderize_html(self):\n",
    "        \n",
    "        self.html += \"<br></body></html>\"\n",
    "\n",
    "        with open(self.path_html, 'w') as out:\n",
    "            out.write(self.html)\n",
    "                \n",
    "    def run(self):\n",
    "        \n",
    "        logger = log(self.path_output, 'logs.txt')\n",
    "        \n",
    "        # Preprocess data        \n",
    "        preprocess = preprocess_data(data           = self.data,\n",
    "                                     y_name         = self.y_name,\n",
    "                                     features_type  = self.features_type,\n",
    "                                     html           = self.html,\n",
    "                                     logger         = logger)\n",
    "\n",
    "        self.X, self.y, self.features_type, html = preprocess.run()\n",
    "        self.html = html\n",
    "        \n",
    "        # =================\n",
    "        # Outlier detection\n",
    "        detect_out = detect_outliers(X             = self.X,\n",
    "                                     features_type = self.features_type,\n",
    "                                     method        = self.outliers_method,\n",
    "                                     logger        = logger)\n",
    "        \n",
    "        outliers = detect_out.run() \n",
    "        self.X = self.X[~outliers]\n",
    "        self.y = self.y[~outliers]\n",
    "        \n",
    "        # HTML report about outliers\n",
    "        if self.outliers_method == 'adjbox':\n",
    "            name = 'Adjusted Boxplot for skewed distribution'\n",
    "        elif self.outliers_method == 'lof':\n",
    "            name = 'Local Outlier Factor (LOF)'\n",
    "        elif self.outliers_method == 'isolation_forest':\n",
    "            name = 'Isolarion Forest'\n",
    "            \n",
    "        str_ = name + \" method used<br>Total outliers found: \" + str(outliers.sum())\n",
    "        self.html += \"<h2><center>Outlier detection:</center></h2>\"\n",
    "        self.html += str_\n",
    "        \n",
    "        # =================\n",
    "        # statistical analysis\n",
    "        self.html += \"<h2><center>Statistical Analysis:</center></h2>\"\n",
    "        \n",
    "        sta = statistical_analysis(\n",
    "                           X      = self.X, \n",
    "                           y      = self.y,\n",
    "                           y_name = self.y_name,\n",
    "                           features_type = self.features_type,\n",
    "                           alpha  = self.alpha,\n",
    "                           html   = self.html,\n",
    "                           path_output = self.path_output,\n",
    "                           logger = logger\n",
    "                          )\n",
    "\n",
    "        self.html = sta.run()\n",
    "        # =================\n",
    "        \n",
    "        # Make the HTML file\n",
    "        self.renderize_html()\n",
    "        \n",
    "        return self.X, self.y, self.features_type"
   ]
  },
  {
   "cell_type": "code",
   "execution_count": 15,
   "metadata": {},
   "outputs": [],
   "source": [
    "octo = octopus(data          = raw_df,\n",
    "               y_name        = 'Survived',\n",
    "               features_type = features_type,\n",
    "               outliers_method = 'lof',\n",
    "               alpha_sta     = 0.05,\n",
    "               path_output   = path_output\n",
    "               )"
   ]
  },
  {
   "cell_type": "code",
   "execution_count": 16,
   "metadata": {},
   "outputs": [
    {
     "name": "stderr",
     "output_type": "stream",
     "text": [
      "2021-05-15 23:23:36,141 INFO: Started to check the features consistency\n",
      "2021-05-15 23:23:36,183 INFO: Features: ['PassengerId', 'Name', 'Ticket', 'Cabin'] were removed because its distribution\n",
      "2021-05-15 23:23:36,185 INFO: Consistency values finished!\n",
      "2021-05-15 23:23:36,189 INFO: Feature Age was imputer with the method median value = 28.0\n",
      "2021-05-15 23:23:36,192 INFO: Feature Embarked was imputer with \"other\"\n",
      "2021-05-15 23:23:36,193 INFO: None feature were removed because the missing values\n",
      "2021-05-15 23:23:36,194 INFO: Handle missing values finished!\n",
      "2021-05-15 23:23:36,197 INFO: Detect outliers started\n",
      "2021-05-15 23:23:36,200 INFO: Local Outlier Factor method selected\n",
      "2021-05-15 23:23:36,228 INFO: Detected 146 outliers\n",
      "2021-05-15 23:23:36,230 INFO: Detect outliers finished\n"
     ]
    },
    {
     "data": {
      "text/plain": [
       "<Figure size 432x288 with 0 Axes>"
      ]
     },
     "metadata": {},
     "output_type": "display_data"
    }
   ],
   "source": [
    "X, y, ft = octo.run()"
   ]
  },
  {
   "cell_type": "code",
   "execution_count": null,
   "metadata": {},
   "outputs": [],
   "source": [
    "class modeling:\n",
    "    \n",
    "    def __init__(self)"
   ]
  },
  {
   "cell_type": "code",
   "execution_count": null,
   "metadata": {},
   "outputs": [],
   "source": []
  },
  {
   "cell_type": "code",
   "execution_count": null,
   "metadata": {},
   "outputs": [],
   "source": []
  }
 ],
 "metadata": {
  "kernelspec": {
   "display_name": "Python 3",
   "language": "python",
   "name": "python3"
  },
  "language_info": {
   "codemirror_mode": {
    "name": "ipython",
    "version": 3
   },
   "file_extension": ".py",
   "mimetype": "text/x-python",
   "name": "python",
   "nbconvert_exporter": "python",
   "pygments_lexer": "ipython3",
   "version": "3.7.10"
  }
 },
 "nbformat": 4,
 "nbformat_minor": 4
}
