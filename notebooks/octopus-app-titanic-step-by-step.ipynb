{
 "cells": [
  {
   "cell_type": "code",
   "execution_count": 1,
   "metadata": {},
   "outputs": [],
   "source": [
    "import pandas as pd\n",
    "import numpy as np\n",
    "import os\n",
    "import sys\n",
    "sys.path.append('../src/')"
   ]
  },
  {
   "cell_type": "code",
   "execution_count": 2,
   "metadata": {},
   "outputs": [],
   "source": [
    "path_raw    = '../data/raw/'\n",
    "dirname     = 'titanic/'\n",
    "filename    = 'titanic.csv'"
   ]
  },
  {
   "cell_type": "markdown",
   "metadata": {},
   "source": [
    "## Load data"
   ]
  },
  {
   "cell_type": "code",
   "execution_count": 3,
   "metadata": {},
   "outputs": [],
   "source": [
    "raw_df = pd.read_csv(os.path.join(path_raw, dirname, filename))"
   ]
  },
  {
   "cell_type": "code",
   "execution_count": 4,
   "metadata": {},
   "outputs": [
    {
     "name": "stdout",
     "output_type": "stream",
     "text": [
      "(891, 12)\n"
     ]
    },
    {
     "data": {
      "text/html": [
       "<div>\n",
       "<style scoped>\n",
       "    .dataframe tbody tr th:only-of-type {\n",
       "        vertical-align: middle;\n",
       "    }\n",
       "\n",
       "    .dataframe tbody tr th {\n",
       "        vertical-align: top;\n",
       "    }\n",
       "\n",
       "    .dataframe thead th {\n",
       "        text-align: right;\n",
       "    }\n",
       "</style>\n",
       "<table border=\"1\" class=\"dataframe\">\n",
       "  <thead>\n",
       "    <tr style=\"text-align: right;\">\n",
       "      <th></th>\n",
       "      <th>PassengerId</th>\n",
       "      <th>Survived</th>\n",
       "      <th>Pclass</th>\n",
       "      <th>Name</th>\n",
       "      <th>Sex</th>\n",
       "      <th>Age</th>\n",
       "      <th>SibSp</th>\n",
       "      <th>Parch</th>\n",
       "      <th>Ticket</th>\n",
       "      <th>Fare</th>\n",
       "      <th>Cabin</th>\n",
       "      <th>Embarked</th>\n",
       "    </tr>\n",
       "  </thead>\n",
       "  <tbody>\n",
       "    <tr>\n",
       "      <th>0</th>\n",
       "      <td>1</td>\n",
       "      <td>0</td>\n",
       "      <td>3</td>\n",
       "      <td>Braund, Mr. Owen Harris</td>\n",
       "      <td>male</td>\n",
       "      <td>22.0</td>\n",
       "      <td>1</td>\n",
       "      <td>0</td>\n",
       "      <td>A/5 21171</td>\n",
       "      <td>7.2500</td>\n",
       "      <td>NaN</td>\n",
       "      <td>S</td>\n",
       "    </tr>\n",
       "    <tr>\n",
       "      <th>1</th>\n",
       "      <td>2</td>\n",
       "      <td>1</td>\n",
       "      <td>1</td>\n",
       "      <td>Cumings, Mrs. John Bradley (Florence Briggs Th...</td>\n",
       "      <td>female</td>\n",
       "      <td>38.0</td>\n",
       "      <td>1</td>\n",
       "      <td>0</td>\n",
       "      <td>PC 17599</td>\n",
       "      <td>71.2833</td>\n",
       "      <td>C85</td>\n",
       "      <td>C</td>\n",
       "    </tr>\n",
       "    <tr>\n",
       "      <th>2</th>\n",
       "      <td>3</td>\n",
       "      <td>1</td>\n",
       "      <td>3</td>\n",
       "      <td>Heikkinen, Miss. Laina</td>\n",
       "      <td>female</td>\n",
       "      <td>26.0</td>\n",
       "      <td>0</td>\n",
       "      <td>0</td>\n",
       "      <td>STON/O2. 3101282</td>\n",
       "      <td>7.9250</td>\n",
       "      <td>NaN</td>\n",
       "      <td>S</td>\n",
       "    </tr>\n",
       "  </tbody>\n",
       "</table>\n",
       "</div>"
      ],
      "text/plain": [
       "   PassengerId  Survived  Pclass  \\\n",
       "0            1         0       3   \n",
       "1            2         1       1   \n",
       "2            3         1       3   \n",
       "\n",
       "                                                Name     Sex   Age  SibSp  \\\n",
       "0                            Braund, Mr. Owen Harris    male  22.0      1   \n",
       "1  Cumings, Mrs. John Bradley (Florence Briggs Th...  female  38.0      1   \n",
       "2                             Heikkinen, Miss. Laina  female  26.0      0   \n",
       "\n",
       "   Parch            Ticket     Fare Cabin Embarked  \n",
       "0      0         A/5 21171   7.2500   NaN        S  \n",
       "1      0          PC 17599  71.2833   C85        C  \n",
       "2      0  STON/O2. 3101282   7.9250   NaN        S  "
      ]
     },
     "execution_count": 4,
     "metadata": {},
     "output_type": "execute_result"
    }
   ],
   "source": [
    "print(raw_df.shape)\n",
    "raw_df.head(3)"
   ]
  },
  {
   "cell_type": "markdown",
   "metadata": {},
   "source": [
    "## Execution"
   ]
  },
  {
   "cell_type": "code",
   "execution_count": 5,
   "metadata": {},
   "outputs": [],
   "source": [
    "# X features names\n",
    "features_type = {'qualitative': ['PassengerId', \n",
    "                                 'Pclass',\n",
    "                                 'Name',\n",
    "                                 'Sex',                                 \n",
    "                                 'Ticket',\n",
    "                                 'Cabin',\n",
    "                                 'Embarked'\n",
    "                                ],\n",
    "                'quantitative': ['Age',\n",
    "                                 'SibSp',\n",
    "                                 'Parch',\n",
    "                                 'Fare'\n",
    "                                ]\n",
    "                }\n",
    "\n",
    "# target name\n",
    "y_name = 'Survived'"
   ]
  },
  {
   "cell_type": "code",
   "execution_count": 6,
   "metadata": {},
   "outputs": [],
   "source": [
    "path_output = '../data/output/titanic/'\n",
    "\n",
    "test_size = 0.25\n",
    "min_missing = 0.25\n",
    "outliers_method = 'lof'\n",
    "alpha_sta = 0.05\n",
    "\n",
    "strategy_missing = 'median'\n",
    "method_scale = 'standard'\n",
    "metric_train = 'accuracy'\n",
    "\n",
    "seed = 42\n",
    "njobs = -1"
   ]
  },
  {
   "cell_type": "code",
   "execution_count": 7,
   "metadata": {},
   "outputs": [],
   "source": [
    "data = raw_df.copy()"
   ]
  },
  {
   "cell_type": "code",
   "execution_count": 9,
   "metadata": {},
   "outputs": [],
   "source": [
    "from datetime import datetime\n",
    "from octopus import OctopusProcess\n",
    "from octopus import OctopusPrepare\n",
    "from octopus import OctopusTrain\n",
    "from octopus import OctopusEvaluate"
   ]
  },
  {
   "cell_type": "code",
   "execution_count": 11,
   "metadata": {},
   "outputs": [
    {
     "name": "stderr",
     "output_type": "stream",
     "text": [
      "2021-05-23 18:24:23,381 INFO: Started to check the features consistency\n",
      "2021-05-23 18:24:23,410 INFO: Features: ['PassengerId', 'Name', 'Ticket', 'Cabin'] were removed because its distribution\n",
      "2021-05-23 18:24:23,411 INFO: Consistency values finished!\n",
      "2021-05-23 18:24:23,416 INFO: Feature Embarked was imputer with \"other\"\n",
      "2021-05-23 18:24:23,418 INFO: None feature were removed because the missing values\n",
      "2021-05-23 18:24:23,419 INFO: Check the missing values finished!\n",
      "2021-05-23 18:24:23,421 INFO: Detect outliers started\n",
      "2021-05-23 18:24:23,422 INFO: Local Outlier Factor method selected\n",
      "2021-05-23 18:24:23,455 INFO: Detected 80 outliers\n",
      "2021-05-23 18:24:23,456 INFO: Detect outliers finished\n"
     ]
    },
    {
     "data": {
      "text/plain": [
       "<Figure size 432x288 with 0 Axes>"
      ]
     },
     "metadata": {},
     "output_type": "display_data"
    }
   ],
   "source": [
    "octoProcess = OctopusProcess(test_size, \n",
    "                             min_missing,\n",
    "                             outliers_method,\n",
    "                             alpha_sta,\n",
    "                             seed)\n",
    "\n",
    "train, test, features_type, html = octoProcess.process_data(data, \n",
    "                                                            y_name,\n",
    "                                                            features_type,\n",
    "                                                            path_output)\n",
    "\n",
    "X_train, y_train = train\n",
    "X_test, y_test = test"
   ]
  },
  {
   "cell_type": "code",
   "execution_count": 12,
   "metadata": {},
   "outputs": [],
   "source": [
    "octoPrepare = OctopusPrepare(strategy_missing, \n",
    "                             method_scale)\n",
    "preparessor = octoPrepare.prepare_pipeline(features_type)"
   ]
  },
  {
   "cell_type": "code",
   "execution_count": 13,
   "metadata": {
    "scrolled": true
   },
   "outputs": [
    {
     "name": "stdout",
     "output_type": "stream",
     "text": [
      "Logistic Regression is going to be fitted\n",
      "Logistic Regression fitted\n",
      "Regularized Logistic Regression is going to be fitted\n",
      "Regularized Logistic Regression fitted\n",
      "Random Forest is going to be fitted\n",
      "Random Forest fitted\n",
      "XGBoost is going to be fitted\n",
      "XGBoost fitted\n",
      "Time execution training models: 0:02:50.798944\n"
     ]
    }
   ],
   "source": [
    "start = datetime.now()\n",
    "\n",
    "octoTrain = OctopusTrain(metric = metric_train, \n",
    "                         seed = seed,\n",
    "                         njobs = njobs)\n",
    "models_trained = octoTrain.train(X_train, y_train, preparessor)\n",
    "\n",
    "finish = datetime.now()\n",
    "print('Time execution training models:', finish - start)"
   ]
  },
  {
   "cell_type": "code",
   "execution_count": 17,
   "metadata": {},
   "outputs": [
    {
     "name": "stdout",
     "output_type": "stream",
     "text": [
      "LR model: accuracy = 0.795956 (0.034484)\n",
      "LRR model: accuracy = 0.795956 (0.034484)\n",
      "RF model: accuracy = 0.827077 (0.048432)\n",
      "XGB model: accuracy = 0.810820 (0.035628)\n"
     ]
    },
    {
     "data": {
      "text/plain": [
       "<Figure size 432x288 with 0 Axes>"
      ]
     },
     "metadata": {},
     "output_type": "display_data"
    },
    {
     "data": {
      "text/plain": [
       "<Figure size 720x288 with 0 Axes>"
      ]
     },
     "metadata": {},
     "output_type": "display_data"
    }
   ],
   "source": [
    "# evaluate\n",
    "OctoEval = OctopusEvaluate(metric = metric_train,\n",
    "                           seed = seed)\n",
    "\n",
    "best_model, metrics_df = OctoEval.evaluate(X_train, \n",
    "                                           y_train,\n",
    "                                           X_test,\n",
    "                                           y_test,\n",
    "                                           models_trained,\n",
    "                                           path_output)"
   ]
  },
  {
   "cell_type": "code",
   "execution_count": null,
   "metadata": {},
   "outputs": [],
   "source": [
    "results = {}\n",
    "results['data_train'] = (X_train, y_train)\n",
    "results['data_test'] = (X_test, y_test)\n",
    "results['models_trained'] = models_trained\n",
    "results['best_model'] = best_model\n",
    "results['metrics'] = metrics_df"
   ]
  },
  {
   "cell_type": "code",
   "execution_count": null,
   "metadata": {},
   "outputs": [],
   "source": []
  },
  {
   "cell_type": "code",
   "execution_count": null,
   "metadata": {},
   "outputs": [],
   "source": []
  },
  {
   "cell_type": "code",
   "execution_count": null,
   "metadata": {},
   "outputs": [],
   "source": []
  },
  {
   "cell_type": "code",
   "execution_count": null,
   "metadata": {},
   "outputs": [],
   "source": []
  },
  {
   "cell_type": "code",
   "execution_count": null,
   "metadata": {},
   "outputs": [],
   "source": []
  },
  {
   "cell_type": "code",
   "execution_count": 7,
   "metadata": {},
   "outputs": [],
   "source": [
    "from octopus import octopus_ml"
   ]
  },
  {
   "cell_type": "code",
   "execution_count": 8,
   "metadata": {},
   "outputs": [],
   "source": [
    "octo = octopus_ml(\n",
    "                method_missing_quanti = method_missing_quanti,\n",
    "                outliers_method = outliers_method,\n",
    "                alpha_sta = alpha_sta,\n",
    "                seed = seed,\n",
    "                method_scale = method_scale,\n",
    "                metric_train = metric,\n",
    "                njobs = njobs)"
   ]
  },
  {
   "cell_type": "code",
   "execution_count": 9,
   "metadata": {
    "scrolled": true
   },
   "outputs": [
    {
     "name": "stderr",
     "output_type": "stream",
     "text": [
      "2021-05-20 22:35:34,228 INFO: Started to check the features consistency\n",
      "2021-05-20 22:35:34,260 INFO: Features: ['PassengerId', 'Name', 'Ticket', 'Cabin'] were removed because its distribution\n",
      "2021-05-20 22:35:34,261 INFO: Consistency values finished!\n",
      "2021-05-20 22:35:34,266 INFO: Feature Age was imputer with the method median value = 28.0\n",
      "2021-05-20 22:35:34,267 INFO: Feature Embarked was imputer with \"other\"\n",
      "2021-05-20 22:35:34,268 INFO: None feature were removed because the missing values\n",
      "2021-05-20 22:35:34,269 INFO: Handle missing values finished!\n",
      "2021-05-20 22:35:34,270 INFO: Detect outliers started\n",
      "2021-05-20 22:35:34,271 INFO: Local Outlier Factor method selected\n",
      "2021-05-20 22:35:34,302 INFO: Detected 146 outliers\n",
      "2021-05-20 22:35:34,303 INFO: Detect outliers finished\n"
     ]
    },
    {
     "name": "stdout",
     "output_type": "stream",
     "text": [
      "LR model: accuracy = 0.801006 (0.041433)\n",
      "LRR model: accuracy = 0.799253 (0.036570)\n",
      "RF model: accuracy = 0.826039 (0.034669)\n",
      "XGB model: accuracy = 0.824318 (0.048278)\n"
     ]
    },
    {
     "data": {
      "text/plain": [
       "<Figure size 432x288 with 0 Axes>"
      ]
     },
     "metadata": {},
     "output_type": "display_data"
    },
    {
     "data": {
      "text/plain": [
       "<Figure size 432x288 with 0 Axes>"
      ]
     },
     "metadata": {},
     "output_type": "display_data"
    },
    {
     "data": {
      "text/plain": [
       "<Figure size 720x288 with 0 Axes>"
      ]
     },
     "metadata": {},
     "output_type": "display_data"
    }
   ],
   "source": [
    "results = octo.run(data          = raw_df,\n",
    "                   y_name        = y_name,\n",
    "                   features_type = features_type,\n",
    "                   path_output   = path_output)"
   ]
  },
  {
   "cell_type": "code",
   "execution_count": 12,
   "metadata": {},
   "outputs": [
    {
     "data": {
      "text/plain": [
       "('RF',\n",
       " RandomForestClassifier(max_depth=8, max_features=0.37384777848686024,\n",
       "                        min_samples_leaf=9, min_samples_split=73,\n",
       "                        n_estimators=248, random_state=42))"
      ]
     },
     "execution_count": 12,
     "metadata": {},
     "output_type": "execute_result"
    }
   ],
   "source": [
    "results['best_model']"
   ]
  },
  {
   "cell_type": "markdown",
   "metadata": {},
   "source": [
    "what is missing?\n",
    "\n",
    "Improve documentation\n",
    "More options to handle missing values (imputer)"
   ]
  }
 ],
 "metadata": {
  "kernelspec": {
   "display_name": "Python 3",
   "language": "python",
   "name": "python3"
  },
  "language_info": {
   "codemirror_mode": {
    "name": "ipython",
    "version": 3
   },
   "file_extension": ".py",
   "mimetype": "text/x-python",
   "name": "python",
   "nbconvert_exporter": "python",
   "pygments_lexer": "ipython3",
   "version": "3.7.10"
  }
 },
 "nbformat": 4,
 "nbformat_minor": 4
}
