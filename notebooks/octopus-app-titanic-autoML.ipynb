{
 "cells": [
  {
   "cell_type": "code",
   "execution_count": 1,
   "metadata": {},
   "outputs": [],
   "source": [
    "import pandas as pd\n",
    "import numpy as np\n",
    "import os\n",
    "import sys\n",
    "sys.path.append('../src/')\n",
    "\n",
    "from octopus import OctopusML"
   ]
  },
  {
   "cell_type": "code",
   "execution_count": 2,
   "metadata": {},
   "outputs": [],
   "source": [
    "path_raw    = '../data/raw/'\n",
    "dirname     = 'titanic/'\n",
    "filename    = 'titanic.csv'"
   ]
  },
  {
   "cell_type": "markdown",
   "metadata": {},
   "source": [
    "## Load data"
   ]
  },
  {
   "cell_type": "code",
   "execution_count": 3,
   "metadata": {},
   "outputs": [],
   "source": [
    "raw_df = pd.read_csv(os.path.join(path_raw, dirname, filename))"
   ]
  },
  {
   "cell_type": "code",
   "execution_count": 4,
   "metadata": {},
   "outputs": [
    {
     "name": "stdout",
     "output_type": "stream",
     "text": [
      "(891, 12)\n"
     ]
    },
    {
     "data": {
      "text/html": [
       "<div>\n",
       "<style scoped>\n",
       "    .dataframe tbody tr th:only-of-type {\n",
       "        vertical-align: middle;\n",
       "    }\n",
       "\n",
       "    .dataframe tbody tr th {\n",
       "        vertical-align: top;\n",
       "    }\n",
       "\n",
       "    .dataframe thead th {\n",
       "        text-align: right;\n",
       "    }\n",
       "</style>\n",
       "<table border=\"1\" class=\"dataframe\">\n",
       "  <thead>\n",
       "    <tr style=\"text-align: right;\">\n",
       "      <th></th>\n",
       "      <th>PassengerId</th>\n",
       "      <th>Survived</th>\n",
       "      <th>Pclass</th>\n",
       "      <th>Name</th>\n",
       "      <th>Sex</th>\n",
       "      <th>Age</th>\n",
       "      <th>SibSp</th>\n",
       "      <th>Parch</th>\n",
       "      <th>Ticket</th>\n",
       "      <th>Fare</th>\n",
       "      <th>Cabin</th>\n",
       "      <th>Embarked</th>\n",
       "    </tr>\n",
       "  </thead>\n",
       "  <tbody>\n",
       "    <tr>\n",
       "      <th>0</th>\n",
       "      <td>1</td>\n",
       "      <td>0</td>\n",
       "      <td>3</td>\n",
       "      <td>Braund, Mr. Owen Harris</td>\n",
       "      <td>male</td>\n",
       "      <td>22.0</td>\n",
       "      <td>1</td>\n",
       "      <td>0</td>\n",
       "      <td>A/5 21171</td>\n",
       "      <td>7.2500</td>\n",
       "      <td>NaN</td>\n",
       "      <td>S</td>\n",
       "    </tr>\n",
       "    <tr>\n",
       "      <th>1</th>\n",
       "      <td>2</td>\n",
       "      <td>1</td>\n",
       "      <td>1</td>\n",
       "      <td>Cumings, Mrs. John Bradley (Florence Briggs Th...</td>\n",
       "      <td>female</td>\n",
       "      <td>38.0</td>\n",
       "      <td>1</td>\n",
       "      <td>0</td>\n",
       "      <td>PC 17599</td>\n",
       "      <td>71.2833</td>\n",
       "      <td>C85</td>\n",
       "      <td>C</td>\n",
       "    </tr>\n",
       "    <tr>\n",
       "      <th>2</th>\n",
       "      <td>3</td>\n",
       "      <td>1</td>\n",
       "      <td>3</td>\n",
       "      <td>Heikkinen, Miss. Laina</td>\n",
       "      <td>female</td>\n",
       "      <td>26.0</td>\n",
       "      <td>0</td>\n",
       "      <td>0</td>\n",
       "      <td>STON/O2. 3101282</td>\n",
       "      <td>7.9250</td>\n",
       "      <td>NaN</td>\n",
       "      <td>S</td>\n",
       "    </tr>\n",
       "  </tbody>\n",
       "</table>\n",
       "</div>"
      ],
      "text/plain": [
       "   PassengerId  Survived  Pclass  \\\n",
       "0            1         0       3   \n",
       "1            2         1       1   \n",
       "2            3         1       3   \n",
       "\n",
       "                                                Name     Sex   Age  SibSp  \\\n",
       "0                            Braund, Mr. Owen Harris    male  22.0      1   \n",
       "1  Cumings, Mrs. John Bradley (Florence Briggs Th...  female  38.0      1   \n",
       "2                             Heikkinen, Miss. Laina  female  26.0      0   \n",
       "\n",
       "   Parch            Ticket     Fare Cabin Embarked  \n",
       "0      0         A/5 21171   7.2500   NaN        S  \n",
       "1      0          PC 17599  71.2833   C85        C  \n",
       "2      0  STON/O2. 3101282   7.9250   NaN        S  "
      ]
     },
     "execution_count": 4,
     "metadata": {},
     "output_type": "execute_result"
    }
   ],
   "source": [
    "print(raw_df.shape)\n",
    "raw_df.head(3)"
   ]
  },
  {
   "cell_type": "markdown",
   "metadata": {},
   "source": [
    "## Configurations"
   ]
  },
  {
   "cell_type": "code",
   "execution_count": 5,
   "metadata": {},
   "outputs": [],
   "source": [
    "# X features names\n",
    "features_type = {'qualitative': ['PassengerId', \n",
    "                                 'Pclass',\n",
    "                                 'Name',\n",
    "                                 'Sex',                                 \n",
    "                                 'Ticket',\n",
    "                                 'Cabin',\n",
    "                                 'Embarked'\n",
    "                                ],\n",
    "                'quantitative': ['Age',\n",
    "                                 'SibSp',\n",
    "                                 'Parch',\n",
    "                                 'Fare'\n",
    "                                ]\n",
    "                }\n",
    "\n",
    "# target name\n",
    "y_name = 'Survived'\n",
    "\n",
    "data = raw_df.copy()\n",
    "\n",
    "path_output = '../data/output/titanic/'"
   ]
  },
  {
   "cell_type": "code",
   "execution_count": 6,
   "metadata": {},
   "outputs": [],
   "source": [
    "config = {}\n",
    "config['test_size']        = 0.25\n",
    "config['min_missing']      = 0.25\n",
    "config['outliers_method']  = 'lof'\n",
    "config['alpha_sta']        = 0.05\n",
    "config['strategy_missing'] = 'median'\n",
    "config['method_scale']     = 'standard'\n",
    "config['metric_train']     = 'accuracy'\n",
    "config['seed']             = 42\n",
    "config['njobs']            = -1"
   ]
  },
  {
   "cell_type": "markdown",
   "metadata": {},
   "source": [
    "## Octopus Execution"
   ]
  },
  {
   "cell_type": "code",
   "execution_count": 8,
   "metadata": {},
   "outputs": [],
   "source": [
    "OctoML = OctopusML(\n",
    "                test_size        = config['test_size'],\n",
    "                min_missing      = config['min_missing'],\n",
    "                outliers_method  = config['outliers_method'],\n",
    "                alpha_sta        = config['alpha_sta'],\n",
    "                strategy_missing = config['strategy_missing'],\n",
    "                method_scale     = config['method_scale'],\n",
    "                metric_train     = config['metric_train'],\n",
    "                njobs            = config['njobs'],\n",
    "                seed             = config['seed'])"
   ]
  },
  {
   "cell_type": "code",
   "execution_count": 9,
   "metadata": {
    "scrolled": true
   },
   "outputs": [
    {
     "name": "stderr",
     "output_type": "stream",
     "text": [
      "2021-05-29 11:24:38,481 INFO: Started to check the features consistency\n",
      "2021-05-29 11:24:38,526 INFO: Features: ['PassengerId', 'Name', 'Ticket', 'Cabin'] were removed because its distribution\n",
      "2021-05-29 11:24:38,528 INFO: Consistency values finished!\n",
      "2021-05-29 11:24:38,534 INFO: Feature Embarked was imputer with \"other\"\n",
      "2021-05-29 11:24:38,536 INFO: None feature were removed because the missing values\n",
      "2021-05-29 11:24:38,538 INFO: Check the missing values finished!\n",
      "2021-05-29 11:24:38,540 INFO: Detect outliers started\n",
      "2021-05-29 11:24:38,541 INFO: Local Outlier Factor method selected\n",
      "2021-05-29 11:24:38,585 INFO: Detected 80 outliers\n",
      "2021-05-29 11:24:38,588 INFO: Detect outliers finished\n"
     ]
    },
    {
     "name": "stdout",
     "output_type": "stream",
     "text": [
      "Logistic Regression is going to be fitted\n",
      "Logistic Regression fitted\n",
      "Regularized Logistic Regression is going to be fitted\n",
      "Regularized Logistic Regression fitted\n",
      "Random Forest is going to be fitted\n",
      "|   iter    |  target   | max_depth | max_fe... | min_sa... | min_sa... | n_esti... |\n",
      "-------------------------------------------------------------------------------------\n",
      "| \u001b[0m 1       \u001b[0m | \u001b[0m 0.796   \u001b[0m | \u001b[0m 4.996   \u001b[0m | \u001b[0m 0.9547  \u001b[0m | \u001b[0m 37.94   \u001b[0m | \u001b[0m 65.89   \u001b[0m | \u001b[0m 120.2   \u001b[0m |\n",
      "| \u001b[0m 2       \u001b[0m | \u001b[0m 0.7763  \u001b[0m | \u001b[0m 3.248   \u001b[0m | \u001b[0m 0.1522  \u001b[0m | \u001b[0m 43.98   \u001b[0m | \u001b[0m 66.09   \u001b[0m | \u001b[0m 368.6   \u001b[0m |\n",
      "| \u001b[0m 3       \u001b[0m | \u001b[0m 0.796   \u001b[0m | \u001b[0m 2.165   \u001b[0m | \u001b[0m 0.9719  \u001b[0m | \u001b[0m 42.46   \u001b[0m | \u001b[0m 33.05   \u001b[0m | \u001b[0m 131.8   \u001b[0m |\n",
      "| \u001b[0m 4       \u001b[0m | \u001b[0m 0.796   \u001b[0m | \u001b[0m 3.467   \u001b[0m | \u001b[0m 0.3735  \u001b[0m | \u001b[0m 28.61   \u001b[0m | \u001b[0m 51.72   \u001b[0m | \u001b[0m 181.1   \u001b[0m |\n",
      "| \u001b[0m 5       \u001b[0m | \u001b[0m 0.7894  \u001b[0m | \u001b[0m 6.895   \u001b[0m | \u001b[0m 0.2254  \u001b[0m | \u001b[0m 18.15   \u001b[0m | \u001b[0m 46.14   \u001b[0m | \u001b[0m 255.2   \u001b[0m |\n",
      "| \u001b[95m 6       \u001b[0m | \u001b[95m 0.8141  \u001b[0m | \u001b[95m 10.0    \u001b[0m | \u001b[95m 0.1     \u001b[0m | \u001b[95m 5.0     \u001b[0m | \u001b[95m 15.0    \u001b[0m | \u001b[95m 50.0    \u001b[0m |\n",
      "| \u001b[0m 7       \u001b[0m | \u001b[0m 0.796   \u001b[0m | \u001b[0m 4.379   \u001b[0m | \u001b[0m 0.2835  \u001b[0m | \u001b[0m 30.46   \u001b[0m | \u001b[0m 49.73   \u001b[0m | \u001b[0m 179.2   \u001b[0m |\n",
      "| \u001b[0m 8       \u001b[0m | \u001b[0m 0.7911  \u001b[0m | \u001b[0m 10.0    \u001b[0m | \u001b[0m 0.1     \u001b[0m | \u001b[0m 5.0     \u001b[0m | \u001b[0m 100.0   \u001b[0m | \u001b[0m 50.0    \u001b[0m |\n",
      "| \u001b[0m 9       \u001b[0m | \u001b[0m 0.7352  \u001b[0m | \u001b[0m 5.571   \u001b[0m | \u001b[0m 0.1     \u001b[0m | \u001b[0m 50.0    \u001b[0m | \u001b[0m 15.0    \u001b[0m | \u001b[0m 50.0    \u001b[0m |\n",
      "| \u001b[95m 10      \u001b[0m | \u001b[95m 0.8223  \u001b[0m | \u001b[95m 10.0    \u001b[0m | \u001b[95m 0.2836  \u001b[0m | \u001b[95m 5.0     \u001b[0m | \u001b[95m 22.42   \u001b[0m | \u001b[95m 70.53   \u001b[0m |\n",
      "| \u001b[0m 11      \u001b[0m | \u001b[0m 0.819   \u001b[0m | \u001b[0m 6.867   \u001b[0m | \u001b[0m 0.3855  \u001b[0m | \u001b[0m 5.298   \u001b[0m | \u001b[0m 42.82   \u001b[0m | \u001b[0m 56.29   \u001b[0m |\n",
      "| \u001b[0m 12      \u001b[0m | \u001b[0m 0.8059  \u001b[0m | \u001b[0m 10.0    \u001b[0m | \u001b[0m 0.1     \u001b[0m | \u001b[0m 5.0     \u001b[0m | \u001b[0m 48.46   \u001b[0m | \u001b[0m 90.76   \u001b[0m |\n",
      "| \u001b[95m 13      \u001b[0m | \u001b[95m 0.8224  \u001b[0m | \u001b[95m 8.968   \u001b[0m | \u001b[95m 0.9859  \u001b[0m | \u001b[95m 9.101   \u001b[0m | \u001b[95m 16.17   \u001b[0m | \u001b[95m 499.7   \u001b[0m |\n",
      "| \u001b[0m 14      \u001b[0m | \u001b[0m 0.796   \u001b[0m | \u001b[0m 3.836   \u001b[0m | \u001b[0m 0.4868  \u001b[0m | \u001b[0m 46.37   \u001b[0m | \u001b[0m 18.17   \u001b[0m | \u001b[0m 495.4   \u001b[0m |\n",
      "| \u001b[0m 15      \u001b[0m | \u001b[0m 0.8141  \u001b[0m | \u001b[0m 10.0    \u001b[0m | \u001b[0m 0.999   \u001b[0m | \u001b[0m 5.0     \u001b[0m | \u001b[0m 49.07   \u001b[0m | \u001b[0m 500.0   \u001b[0m |\n",
      "=====================================================================================\n",
      "Random Forest fitted\n",
      "XGBoost is going to be fitted\n",
      "|   iter    |  target   | colsam... |    eta    | max_depth | n_esti... |\n",
      "-------------------------------------------------------------------------\n",
      "| \u001b[0m 1       \u001b[0m | \u001b[0m 0.7796  \u001b[0m | \u001b[0m 0.4367  \u001b[0m | \u001b[0m 0.3803  \u001b[0m | \u001b[0m 7.856   \u001b[0m | \u001b[0m 319.4   \u001b[0m |\n",
      "| \u001b[95m 2       \u001b[0m | \u001b[95m 0.8158  \u001b[0m | \u001b[95m 0.2403  \u001b[0m | \u001b[95m 0.06324 \u001b[0m | \u001b[95m 2.465   \u001b[0m | \u001b[95m 439.8   \u001b[0m |\n",
      "| \u001b[0m 3       \u001b[0m | \u001b[0m 0.7927  \u001b[0m | \u001b[0m 0.6404  \u001b[0m | \u001b[0m 0.2835  \u001b[0m | \u001b[0m 2.165   \u001b[0m | \u001b[0m 486.5   \u001b[0m |\n",
      "| \u001b[95m 4       \u001b[0m | \u001b[95m 0.8174  \u001b[0m | \u001b[95m 0.8484  \u001b[0m | \u001b[95m 0.08572 \u001b[0m | \u001b[95m 3.455   \u001b[0m | \u001b[95m 132.5   \u001b[0m |\n",
      "| \u001b[0m 5       \u001b[0m | \u001b[0m 0.8059  \u001b[0m | \u001b[0m 0.3735  \u001b[0m | \u001b[0m 0.2104  \u001b[0m | \u001b[0m 5.456   \u001b[0m | \u001b[0m 181.1   \u001b[0m |\n",
      "| \u001b[0m 6       \u001b[0m | \u001b[0m 0.8092  \u001b[0m | \u001b[0m 0.7713  \u001b[0m | \u001b[0m 0.2255  \u001b[0m | \u001b[0m 2.666   \u001b[0m | \u001b[0m 133.5   \u001b[0m |\n",
      "| \u001b[0m 7       \u001b[0m | \u001b[0m 0.7944  \u001b[0m | \u001b[0m 0.999   \u001b[0m | \u001b[0m 0.001   \u001b[0m | \u001b[0m 5.337   \u001b[0m | \u001b[0m 130.2   \u001b[0m |\n",
      "| \u001b[0m 8       \u001b[0m | \u001b[0m 0.7894  \u001b[0m | \u001b[0m 0.787   \u001b[0m | \u001b[0m 0.145   \u001b[0m | \u001b[0m 4.623   \u001b[0m | \u001b[0m 133.5   \u001b[0m |\n",
      "| \u001b[0m 9       \u001b[0m | \u001b[0m 0.8108  \u001b[0m | \u001b[0m 0.5638  \u001b[0m | \u001b[0m 0.3142  \u001b[0m | \u001b[0m 3.17    \u001b[0m | \u001b[0m 132.2   \u001b[0m |\n",
      "| \u001b[0m 10      \u001b[0m | \u001b[0m 0.8058  \u001b[0m | \u001b[0m 0.296   \u001b[0m | \u001b[0m 0.1403  \u001b[0m | \u001b[0m 2.62    \u001b[0m | \u001b[0m 440.7   \u001b[0m |\n",
      "| \u001b[0m 11      \u001b[0m | \u001b[0m 0.8125  \u001b[0m | \u001b[0m 0.2076  \u001b[0m | \u001b[0m 0.05314 \u001b[0m | \u001b[0m 3.503   \u001b[0m | \u001b[0m 439.2   \u001b[0m |\n",
      "| \u001b[0m 12      \u001b[0m | \u001b[0m 0.7976  \u001b[0m | \u001b[0m 0.7956  \u001b[0m | \u001b[0m 0.2981  \u001b[0m | \u001b[0m 2.207   \u001b[0m | \u001b[0m 439.0   \u001b[0m |\n",
      "| \u001b[0m 13      \u001b[0m | \u001b[0m 0.8174  \u001b[0m | \u001b[0m 0.964   \u001b[0m | \u001b[0m 0.06838 \u001b[0m | \u001b[0m 2.805   \u001b[0m | \u001b[0m 132.8   \u001b[0m |\n",
      "| \u001b[0m 14      \u001b[0m | \u001b[0m 0.8059  \u001b[0m | \u001b[0m 0.2168  \u001b[0m | \u001b[0m 0.1339  \u001b[0m | \u001b[0m 4.47    \u001b[0m | \u001b[0m 440.4   \u001b[0m |\n",
      "| \u001b[95m 15      \u001b[0m | \u001b[95m 0.819   \u001b[0m | \u001b[95m 0.2581  \u001b[0m | \u001b[95m 0.3578  \u001b[0m | \u001b[95m 2.088   \u001b[0m | \u001b[95m 132.7   \u001b[0m |\n",
      "=========================================================================\n",
      "XGBoost fitted\n",
      "Time execution training models: 0:01:00.869392\n",
      "LR model: accuracy = 0.795956 (0.034484)\n",
      "LRR model: accuracy = 0.795956 (0.034484)\n",
      "RF model: accuracy = 0.822213 (0.048335)\n",
      "XGB model: accuracy = 0.800874 (0.039943)\n"
     ]
    },
    {
     "data": {
      "text/plain": [
       "<Figure size 432x288 with 0 Axes>"
      ]
     },
     "metadata": {},
     "output_type": "display_data"
    },
    {
     "data": {
      "text/plain": [
       "<Figure size 432x288 with 0 Axes>"
      ]
     },
     "metadata": {},
     "output_type": "display_data"
    },
    {
     "data": {
      "text/plain": [
       "<Figure size 720x288 with 0 Axes>"
      ]
     },
     "metadata": {},
     "output_type": "display_data"
    }
   ],
   "source": [
    "results = OctoML.autoML(\n",
    "                   data          = data,\n",
    "                   y_name        = y_name,\n",
    "                   features_type = features_type,\n",
    "                   path_output   = path_output)"
   ]
  },
  {
   "cell_type": "code",
   "execution_count": null,
   "metadata": {},
   "outputs": [],
   "source": []
  }
 ],
 "metadata": {
  "kernelspec": {
   "display_name": "Python 3",
   "language": "python",
   "name": "python3"
  },
  "language_info": {
   "codemirror_mode": {
    "name": "ipython",
    "version": 3
   },
   "file_extension": ".py",
   "mimetype": "text/x-python",
   "name": "python",
   "nbconvert_exporter": "python",
   "pygments_lexer": "ipython3",
   "version": "3.7.10"
  }
 },
 "nbformat": 4,
 "nbformat_minor": 4
}
