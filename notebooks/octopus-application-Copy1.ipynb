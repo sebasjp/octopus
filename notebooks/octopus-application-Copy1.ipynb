{
 "cells": [
  {
   "cell_type": "code",
   "execution_count": 1,
   "metadata": {},
   "outputs": [],
   "source": [
    "import pandas as pd\n",
    "import numpy as np\n",
    "import os"
   ]
  },
  {
   "cell_type": "code",
   "execution_count": 2,
   "metadata": {},
   "outputs": [],
   "source": [
    "path_raw    = '../data/raw/'\n",
    "dirname     = 'titanic/'\n",
    "filename    = 'titanic.csv'"
   ]
  },
  {
   "cell_type": "markdown",
   "metadata": {},
   "source": [
    "## Load data"
   ]
  },
  {
   "cell_type": "code",
   "execution_count": 3,
   "metadata": {},
   "outputs": [],
   "source": [
    "raw_df = pd.read_csv(os.path.join(path_raw, dirname, filename))"
   ]
  },
  {
   "cell_type": "code",
   "execution_count": 4,
   "metadata": {},
   "outputs": [
    {
     "name": "stdout",
     "output_type": "stream",
     "text": [
      "(891, 12)\n"
     ]
    },
    {
     "data": {
      "text/html": [
       "<div>\n",
       "<style scoped>\n",
       "    .dataframe tbody tr th:only-of-type {\n",
       "        vertical-align: middle;\n",
       "    }\n",
       "\n",
       "    .dataframe tbody tr th {\n",
       "        vertical-align: top;\n",
       "    }\n",
       "\n",
       "    .dataframe thead th {\n",
       "        text-align: right;\n",
       "    }\n",
       "</style>\n",
       "<table border=\"1\" class=\"dataframe\">\n",
       "  <thead>\n",
       "    <tr style=\"text-align: right;\">\n",
       "      <th></th>\n",
       "      <th>PassengerId</th>\n",
       "      <th>Survived</th>\n",
       "      <th>Pclass</th>\n",
       "      <th>Name</th>\n",
       "      <th>Sex</th>\n",
       "      <th>Age</th>\n",
       "      <th>SibSp</th>\n",
       "      <th>Parch</th>\n",
       "      <th>Ticket</th>\n",
       "      <th>Fare</th>\n",
       "      <th>Cabin</th>\n",
       "      <th>Embarked</th>\n",
       "    </tr>\n",
       "  </thead>\n",
       "  <tbody>\n",
       "    <tr>\n",
       "      <th>0</th>\n",
       "      <td>1</td>\n",
       "      <td>0</td>\n",
       "      <td>3</td>\n",
       "      <td>Braund, Mr. Owen Harris</td>\n",
       "      <td>male</td>\n",
       "      <td>22.0</td>\n",
       "      <td>1</td>\n",
       "      <td>0</td>\n",
       "      <td>A/5 21171</td>\n",
       "      <td>7.2500</td>\n",
       "      <td>NaN</td>\n",
       "      <td>S</td>\n",
       "    </tr>\n",
       "    <tr>\n",
       "      <th>1</th>\n",
       "      <td>2</td>\n",
       "      <td>1</td>\n",
       "      <td>1</td>\n",
       "      <td>Cumings, Mrs. John Bradley (Florence Briggs Th...</td>\n",
       "      <td>female</td>\n",
       "      <td>38.0</td>\n",
       "      <td>1</td>\n",
       "      <td>0</td>\n",
       "      <td>PC 17599</td>\n",
       "      <td>71.2833</td>\n",
       "      <td>C85</td>\n",
       "      <td>C</td>\n",
       "    </tr>\n",
       "    <tr>\n",
       "      <th>2</th>\n",
       "      <td>3</td>\n",
       "      <td>1</td>\n",
       "      <td>3</td>\n",
       "      <td>Heikkinen, Miss. Laina</td>\n",
       "      <td>female</td>\n",
       "      <td>26.0</td>\n",
       "      <td>0</td>\n",
       "      <td>0</td>\n",
       "      <td>STON/O2. 3101282</td>\n",
       "      <td>7.9250</td>\n",
       "      <td>NaN</td>\n",
       "      <td>S</td>\n",
       "    </tr>\n",
       "  </tbody>\n",
       "</table>\n",
       "</div>"
      ],
      "text/plain": [
       "   PassengerId  Survived  Pclass  \\\n",
       "0            1         0       3   \n",
       "1            2         1       1   \n",
       "2            3         1       3   \n",
       "\n",
       "                                                Name     Sex   Age  SibSp  \\\n",
       "0                            Braund, Mr. Owen Harris    male  22.0      1   \n",
       "1  Cumings, Mrs. John Bradley (Florence Briggs Th...  female  38.0      1   \n",
       "2                             Heikkinen, Miss. Laina  female  26.0      0   \n",
       "\n",
       "   Parch            Ticket     Fare Cabin Embarked  \n",
       "0      0         A/5 21171   7.2500   NaN        S  \n",
       "1      0          PC 17599  71.2833   C85        C  \n",
       "2      0  STON/O2. 3101282   7.9250   NaN        S  "
      ]
     },
     "execution_count": 4,
     "metadata": {},
     "output_type": "execute_result"
    }
   ],
   "source": [
    "print(raw_df.shape)\n",
    "raw_df.head(3)"
   ]
  },
  {
   "cell_type": "code",
   "execution_count": 5,
   "metadata": {},
   "outputs": [],
   "source": [
    "# X features names\n",
    "features_type = {'qualitative': ['PassengerId', \n",
    "                                 'Pclass',\n",
    "                                 'Name',\n",
    "                                 'Sex',                                 \n",
    "                                 'Ticket',\n",
    "                                 'Cabin',\n",
    "                                 'Embarked'\n",
    "                                ],\n",
    "                'quantitative': ['Age',\n",
    "                                 'SibSp',\n",
    "                                 'Parch',\n",
    "                                 'Fare'\n",
    "                                ]\n",
    "                }\n",
    "\n",
    "# target name\n",
    "y_name = 'Survived'"
   ]
  },
  {
   "cell_type": "markdown",
   "metadata": {},
   "source": [
    "## Execution"
   ]
  },
  {
   "cell_type": "code",
   "execution_count": 6,
   "metadata": {},
   "outputs": [],
   "source": [
    "path_output = '../data/output/titanic/'"
   ]
  },
  {
   "cell_type": "code",
   "execution_count": 7,
   "metadata": {},
   "outputs": [],
   "source": [
    "SEED = 42"
   ]
  },
  {
   "cell_type": "code",
   "execution_count": 1,
   "metadata": {},
   "outputs": [],
   "source": [
    "import sys\n",
    "sys.path.append('../src/')\n",
    "\n",
    "from process.process import octopus_process\n",
    "from process.prepare import octopus_prepare\n",
    "from modeling.train  import octopus_train\n",
    "from evaluate.evaluate import octopus_evaluate"
   ]
  },
  {
   "cell_type": "code",
   "execution_count": 9,
   "metadata": {},
   "outputs": [
    {
     "name": "stderr",
     "output_type": "stream",
     "text": [
      "2021-05-19 22:53:11,284 INFO: Started to check the features consistency\n",
      "2021-05-19 22:53:11,325 INFO: Features: ['PassengerId', 'Name', 'Ticket', 'Cabin'] were removed because its distribution\n",
      "2021-05-19 22:53:11,327 INFO: Consistency values finished!\n",
      "2021-05-19 22:53:11,334 INFO: Feature Age was imputer with the method median value = 28.0\n",
      "2021-05-19 22:53:11,336 INFO: Feature Embarked was imputer with \"other\"\n",
      "2021-05-19 22:53:11,338 INFO: None feature were removed because the missing values\n",
      "2021-05-19 22:53:11,339 INFO: Handle missing values finished!\n",
      "2021-05-19 22:53:11,341 INFO: Detect outliers started\n",
      "2021-05-19 22:53:11,343 INFO: Local Outlier Factor method selected\n",
      "2021-05-19 22:53:11,372 INFO: Detected 146 outliers\n",
      "2021-05-19 22:53:11,374 INFO: Detect outliers finished\n"
     ]
    },
    {
     "data": {
      "text/plain": [
       "<Figure size 432x288 with 0 Axes>"
      ]
     },
     "metadata": {},
     "output_type": "display_data"
    }
   ],
   "source": [
    "# process data, data cleaning\n",
    "octo_process = octopus_process(method_missing_quanti = 'median',\n",
    "                               outliers_method = 'lof',\n",
    "                               alpha_sta     = 0.05)\n",
    "\n",
    "X, y, features_type = octo_process.run(\n",
    "                                    data          = raw_df,\n",
    "                                    y_name        = y_name,\n",
    "                                    features_type = features_type,\n",
    "                                    path_output   = path_output)"
   ]
  },
  {
   "cell_type": "code",
   "execution_count": 10,
   "metadata": {},
   "outputs": [],
   "source": [
    "# data preparation for model\n",
    "octo_prepare = octopus_prepare(seed = SEED,\n",
    "                               method_scale = 'standard')\n",
    "\n",
    "X_train, X_test, y_train, y_test = octo_prepare.run(X = X,\n",
    "                                                    y = y,\n",
    "                                                    features_type = features_type)"
   ]
  },
  {
   "cell_type": "code",
   "execution_count": 11,
   "metadata": {
    "scrolled": true
   },
   "outputs": [
    {
     "name": "stdout",
     "output_type": "stream",
     "text": [
      "CPU times: user 7min 43s, sys: 13.3 s, total: 7min 56s\n",
      "Wall time: 2min 38s\n"
     ]
    }
   ],
   "source": [
    "%%time\n",
    "# modeling\n",
    "octo_train = octopus_train(seed = SEED,\n",
    "                           metric = 'accuracy',\n",
    "                           njobs = -1)\n",
    "\n",
    "models_trained = octo_train.run(X_train, y_train)"
   ]
  },
  {
   "cell_type": "code",
   "execution_count": 12,
   "metadata": {},
   "outputs": [
    {
     "name": "stdout",
     "output_type": "stream",
     "text": [
      "LR model: recall = 0.762015 (0.074992)\n",
      "LRR model: recall = 0.705910 (0.070878)\n",
      "RF model: recall = 0.799083 (0.050747)\n",
      "XGB model: recall = 0.830560 (0.059204)\n"
     ]
    },
    {
     "data": {
      "text/plain": [
       "(('XGB',\n",
       "  XGBClassifier(base_score=0.5, booster='gbtree', colsample_bylevel=1,\n",
       "                colsample_bynode=1, colsample_bytree=0.7439419453116151, gamma=0,\n",
       "                gpu_id=-1, importance_type='gain', interaction_constraints='',\n",
       "                learning_rate=0.021939320923203304, max_delta_step=0, max_depth=6,\n",
       "                min_child_weight=1, missing=nan, monotone_constraints='()',\n",
       "                n_estimators=129, n_jobs=8, num_parallel_tree=1, random_state=42,\n",
       "                reg_alpha=0, reg_lambda=1, scale_pos_weight=2.0, subsample=1,\n",
       "                tree_method='exact', validate_parameters=1, verbosity=0)),\n",
       "        metric variable     value\n",
       " 0      recall       LR  0.740741\n",
       " 1   precision       LR  0.571429\n",
       " 2          f1       LR  0.645161\n",
       " 3    accuracy       LR  0.764706\n",
       " 4         auc       LR  0.814397\n",
       " 5      recall      LRR  0.685185\n",
       " 6   precision      LRR  0.627119\n",
       " 7          f1      LRR  0.654867\n",
       " 8    accuracy      LRR  0.791444\n",
       " 9         auc      LRR  0.805068\n",
       " 10     recall       RF  0.722222\n",
       " 11  precision       RF  0.541667\n",
       " 12         f1       RF  0.619048\n",
       " 13   accuracy       RF  0.743316\n",
       " 14        auc       RF  0.818435\n",
       " 15     recall      XGB  0.759259\n",
       " 16  precision      XGB  0.532468\n",
       " 17         f1      XGB  0.625954\n",
       " 18   accuracy      XGB  0.737968\n",
       " 19        auc      XGB  0.837302)"
      ]
     },
     "execution_count": 12,
     "metadata": {},
     "output_type": "execute_result"
    },
    {
     "data": {
      "text/plain": [
       "<Figure size 432x288 with 0 Axes>"
      ]
     },
     "metadata": {},
     "output_type": "display_data"
    },
    {
     "data": {
      "text/plain": [
       "<Figure size 720x288 with 0 Axes>"
      ]
     },
     "metadata": {},
     "output_type": "display_data"
    }
   ],
   "source": [
    "octo_eval = octopus_evaluate(metric = 'recall', seed = SEED)\n",
    "\n",
    "octo_eval.run(X_train, \n",
    "              y_train,\n",
    "              X_test,\n",
    "              y_test,\n",
    "              models_trained,\n",
    "              path_output)"
   ]
  },
  {
   "cell_type": "code",
   "execution_count": null,
   "metadata": {},
   "outputs": [],
   "source": []
  }
 ],
 "metadata": {
  "kernelspec": {
   "display_name": "Python 3",
   "language": "python",
   "name": "python3"
  },
  "language_info": {
   "codemirror_mode": {
    "name": "ipython",
    "version": 3
   },
   "file_extension": ".py",
   "mimetype": "text/x-python",
   "name": "python",
   "nbconvert_exporter": "python",
   "pygments_lexer": "ipython3",
   "version": "3.7.10"
  }
 },
 "nbformat": 4,
 "nbformat_minor": 4
}
