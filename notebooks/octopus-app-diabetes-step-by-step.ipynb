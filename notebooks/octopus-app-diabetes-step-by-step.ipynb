{
 "cells": [
  {
   "cell_type": "code",
   "execution_count": 1,
   "metadata": {},
   "outputs": [],
   "source": [
    "import pandas as pd\n",
    "import numpy as np\n",
    "import os\n",
    "import sys\n",
    "sys.path.append('../src/')"
   ]
  },
  {
   "cell_type": "code",
   "execution_count": 2,
   "metadata": {},
   "outputs": [],
   "source": [
    "pd.options.display.max_columns = None"
   ]
  },
  {
   "cell_type": "code",
   "execution_count": 3,
   "metadata": {},
   "outputs": [],
   "source": [
    "path_raw    = '../data/raw/'\n",
    "dirname     = 'diabetes/'\n",
    "filename    = 'diabetes.csv'"
   ]
  },
  {
   "cell_type": "markdown",
   "metadata": {},
   "source": [
    "## Load data"
   ]
  },
  {
   "cell_type": "code",
   "execution_count": 4,
   "metadata": {},
   "outputs": [],
   "source": [
    "raw_df = pd.read_csv(os.path.join(path_raw, dirname, filename))"
   ]
  },
  {
   "cell_type": "code",
   "execution_count": 5,
   "metadata": {},
   "outputs": [
    {
     "name": "stdout",
     "output_type": "stream",
     "text": [
      "(101766, 50)\n"
     ]
    },
    {
     "data": {
      "text/html": [
       "<div>\n",
       "<style scoped>\n",
       "    .dataframe tbody tr th:only-of-type {\n",
       "        vertical-align: middle;\n",
       "    }\n",
       "\n",
       "    .dataframe tbody tr th {\n",
       "        vertical-align: top;\n",
       "    }\n",
       "\n",
       "    .dataframe thead th {\n",
       "        text-align: right;\n",
       "    }\n",
       "</style>\n",
       "<table border=\"1\" class=\"dataframe\">\n",
       "  <thead>\n",
       "    <tr style=\"text-align: right;\">\n",
       "      <th></th>\n",
       "      <th>encounter_id</th>\n",
       "      <th>patient_nbr</th>\n",
       "      <th>race</th>\n",
       "      <th>gender</th>\n",
       "      <th>age</th>\n",
       "      <th>weight</th>\n",
       "      <th>admission_type_id</th>\n",
       "      <th>discharge_disposition_id</th>\n",
       "      <th>admission_source_id</th>\n",
       "      <th>time_in_hospital</th>\n",
       "      <th>payer_code</th>\n",
       "      <th>medical_specialty</th>\n",
       "      <th>num_lab_procedures</th>\n",
       "      <th>num_procedures</th>\n",
       "      <th>num_medications</th>\n",
       "      <th>number_outpatient</th>\n",
       "      <th>number_emergency</th>\n",
       "      <th>number_inpatient</th>\n",
       "      <th>diag_1</th>\n",
       "      <th>diag_2</th>\n",
       "      <th>diag_3</th>\n",
       "      <th>number_diagnoses</th>\n",
       "      <th>max_glu_serum</th>\n",
       "      <th>A1Cresult</th>\n",
       "      <th>metformin</th>\n",
       "      <th>repaglinide</th>\n",
       "      <th>nateglinide</th>\n",
       "      <th>chlorpropamide</th>\n",
       "      <th>glimepiride</th>\n",
       "      <th>acetohexamide</th>\n",
       "      <th>glipizide</th>\n",
       "      <th>glyburide</th>\n",
       "      <th>tolbutamide</th>\n",
       "      <th>pioglitazone</th>\n",
       "      <th>rosiglitazone</th>\n",
       "      <th>acarbose</th>\n",
       "      <th>miglitol</th>\n",
       "      <th>troglitazone</th>\n",
       "      <th>tolazamide</th>\n",
       "      <th>examide</th>\n",
       "      <th>citoglipton</th>\n",
       "      <th>insulin</th>\n",
       "      <th>glyburide-metformin</th>\n",
       "      <th>glipizide-metformin</th>\n",
       "      <th>glimepiride-pioglitazone</th>\n",
       "      <th>metformin-rosiglitazone</th>\n",
       "      <th>metformin-pioglitazone</th>\n",
       "      <th>change</th>\n",
       "      <th>diabetesMed</th>\n",
       "      <th>readmitted</th>\n",
       "    </tr>\n",
       "  </thead>\n",
       "  <tbody>\n",
       "    <tr>\n",
       "      <th>0</th>\n",
       "      <td>2278392</td>\n",
       "      <td>8222157</td>\n",
       "      <td>Caucasian</td>\n",
       "      <td>Female</td>\n",
       "      <td>[0-10)</td>\n",
       "      <td>?</td>\n",
       "      <td>6</td>\n",
       "      <td>25</td>\n",
       "      <td>1</td>\n",
       "      <td>1</td>\n",
       "      <td>?</td>\n",
       "      <td>Pediatrics-Endocrinology</td>\n",
       "      <td>41</td>\n",
       "      <td>0</td>\n",
       "      <td>1</td>\n",
       "      <td>0</td>\n",
       "      <td>0</td>\n",
       "      <td>0</td>\n",
       "      <td>250.83</td>\n",
       "      <td>?</td>\n",
       "      <td>?</td>\n",
       "      <td>1</td>\n",
       "      <td>None</td>\n",
       "      <td>None</td>\n",
       "      <td>No</td>\n",
       "      <td>No</td>\n",
       "      <td>No</td>\n",
       "      <td>No</td>\n",
       "      <td>No</td>\n",
       "      <td>No</td>\n",
       "      <td>No</td>\n",
       "      <td>No</td>\n",
       "      <td>No</td>\n",
       "      <td>No</td>\n",
       "      <td>No</td>\n",
       "      <td>No</td>\n",
       "      <td>No</td>\n",
       "      <td>No</td>\n",
       "      <td>No</td>\n",
       "      <td>No</td>\n",
       "      <td>No</td>\n",
       "      <td>No</td>\n",
       "      <td>No</td>\n",
       "      <td>No</td>\n",
       "      <td>No</td>\n",
       "      <td>No</td>\n",
       "      <td>No</td>\n",
       "      <td>No</td>\n",
       "      <td>No</td>\n",
       "      <td>NO</td>\n",
       "    </tr>\n",
       "    <tr>\n",
       "      <th>1</th>\n",
       "      <td>149190</td>\n",
       "      <td>55629189</td>\n",
       "      <td>Caucasian</td>\n",
       "      <td>Female</td>\n",
       "      <td>[10-20)</td>\n",
       "      <td>?</td>\n",
       "      <td>1</td>\n",
       "      <td>1</td>\n",
       "      <td>7</td>\n",
       "      <td>3</td>\n",
       "      <td>?</td>\n",
       "      <td>?</td>\n",
       "      <td>59</td>\n",
       "      <td>0</td>\n",
       "      <td>18</td>\n",
       "      <td>0</td>\n",
       "      <td>0</td>\n",
       "      <td>0</td>\n",
       "      <td>276</td>\n",
       "      <td>250.01</td>\n",
       "      <td>255</td>\n",
       "      <td>9</td>\n",
       "      <td>None</td>\n",
       "      <td>None</td>\n",
       "      <td>No</td>\n",
       "      <td>No</td>\n",
       "      <td>No</td>\n",
       "      <td>No</td>\n",
       "      <td>No</td>\n",
       "      <td>No</td>\n",
       "      <td>No</td>\n",
       "      <td>No</td>\n",
       "      <td>No</td>\n",
       "      <td>No</td>\n",
       "      <td>No</td>\n",
       "      <td>No</td>\n",
       "      <td>No</td>\n",
       "      <td>No</td>\n",
       "      <td>No</td>\n",
       "      <td>No</td>\n",
       "      <td>No</td>\n",
       "      <td>Up</td>\n",
       "      <td>No</td>\n",
       "      <td>No</td>\n",
       "      <td>No</td>\n",
       "      <td>No</td>\n",
       "      <td>No</td>\n",
       "      <td>Ch</td>\n",
       "      <td>Yes</td>\n",
       "      <td>&gt;30</td>\n",
       "    </tr>\n",
       "    <tr>\n",
       "      <th>2</th>\n",
       "      <td>64410</td>\n",
       "      <td>86047875</td>\n",
       "      <td>AfricanAmerican</td>\n",
       "      <td>Female</td>\n",
       "      <td>[20-30)</td>\n",
       "      <td>?</td>\n",
       "      <td>1</td>\n",
       "      <td>1</td>\n",
       "      <td>7</td>\n",
       "      <td>2</td>\n",
       "      <td>?</td>\n",
       "      <td>?</td>\n",
       "      <td>11</td>\n",
       "      <td>5</td>\n",
       "      <td>13</td>\n",
       "      <td>2</td>\n",
       "      <td>0</td>\n",
       "      <td>1</td>\n",
       "      <td>648</td>\n",
       "      <td>250</td>\n",
       "      <td>V27</td>\n",
       "      <td>6</td>\n",
       "      <td>None</td>\n",
       "      <td>None</td>\n",
       "      <td>No</td>\n",
       "      <td>No</td>\n",
       "      <td>No</td>\n",
       "      <td>No</td>\n",
       "      <td>No</td>\n",
       "      <td>No</td>\n",
       "      <td>Steady</td>\n",
       "      <td>No</td>\n",
       "      <td>No</td>\n",
       "      <td>No</td>\n",
       "      <td>No</td>\n",
       "      <td>No</td>\n",
       "      <td>No</td>\n",
       "      <td>No</td>\n",
       "      <td>No</td>\n",
       "      <td>No</td>\n",
       "      <td>No</td>\n",
       "      <td>No</td>\n",
       "      <td>No</td>\n",
       "      <td>No</td>\n",
       "      <td>No</td>\n",
       "      <td>No</td>\n",
       "      <td>No</td>\n",
       "      <td>No</td>\n",
       "      <td>Yes</td>\n",
       "      <td>NO</td>\n",
       "    </tr>\n",
       "  </tbody>\n",
       "</table>\n",
       "</div>"
      ],
      "text/plain": [
       "   encounter_id  patient_nbr             race  gender      age weight  \\\n",
       "0       2278392      8222157        Caucasian  Female   [0-10)      ?   \n",
       "1        149190     55629189        Caucasian  Female  [10-20)      ?   \n",
       "2         64410     86047875  AfricanAmerican  Female  [20-30)      ?   \n",
       "\n",
       "   admission_type_id  discharge_disposition_id  admission_source_id  \\\n",
       "0                  6                        25                    1   \n",
       "1                  1                         1                    7   \n",
       "2                  1                         1                    7   \n",
       "\n",
       "   time_in_hospital payer_code         medical_specialty  num_lab_procedures  \\\n",
       "0                 1          ?  Pediatrics-Endocrinology                  41   \n",
       "1                 3          ?                         ?                  59   \n",
       "2                 2          ?                         ?                  11   \n",
       "\n",
       "   num_procedures  num_medications  number_outpatient  number_emergency  \\\n",
       "0               0                1                  0                 0   \n",
       "1               0               18                  0                 0   \n",
       "2               5               13                  2                 0   \n",
       "\n",
       "   number_inpatient  diag_1  diag_2 diag_3  number_diagnoses max_glu_serum  \\\n",
       "0                 0  250.83       ?      ?                 1          None   \n",
       "1                 0     276  250.01    255                 9          None   \n",
       "2                 1     648     250    V27                 6          None   \n",
       "\n",
       "  A1Cresult metformin repaglinide nateglinide chlorpropamide glimepiride  \\\n",
       "0      None        No          No          No             No          No   \n",
       "1      None        No          No          No             No          No   \n",
       "2      None        No          No          No             No          No   \n",
       "\n",
       "  acetohexamide glipizide glyburide tolbutamide pioglitazone rosiglitazone  \\\n",
       "0            No        No        No          No           No            No   \n",
       "1            No        No        No          No           No            No   \n",
       "2            No    Steady        No          No           No            No   \n",
       "\n",
       "  acarbose miglitol troglitazone tolazamide examide citoglipton insulin  \\\n",
       "0       No       No           No         No      No          No      No   \n",
       "1       No       No           No         No      No          No      Up   \n",
       "2       No       No           No         No      No          No      No   \n",
       "\n",
       "  glyburide-metformin glipizide-metformin glimepiride-pioglitazone  \\\n",
       "0                  No                  No                       No   \n",
       "1                  No                  No                       No   \n",
       "2                  No                  No                       No   \n",
       "\n",
       "  metformin-rosiglitazone metformin-pioglitazone change diabetesMed readmitted  \n",
       "0                      No                     No     No          No         NO  \n",
       "1                      No                     No     Ch         Yes        >30  \n",
       "2                      No                     No     No         Yes         NO  "
      ]
     },
     "execution_count": 5,
     "metadata": {},
     "output_type": "execute_result"
    }
   ],
   "source": [
    "print(raw_df.shape)\n",
    "raw_df.head(3)"
   ]
  },
  {
   "cell_type": "code",
   "execution_count": 6,
   "metadata": {},
   "outputs": [],
   "source": [
    "raw_df = raw_df.replace({'?': None})\n",
    "raw_df = raw_df.replace({'None': None})\n",
    "raw_df = raw_df.replace({'Unknown/Invalid': None})\n",
    "raw_df = raw_df.replace({'Unknown': None})\n",
    "raw_df = raw_df.replace({'Invalid': None})"
   ]
  },
  {
   "cell_type": "code",
   "execution_count": 7,
   "metadata": {
    "scrolled": true
   },
   "outputs": [
    {
     "name": "stdout",
     "output_type": "stream",
     "text": [
      "<class 'pandas.core.frame.DataFrame'>\n",
      "RangeIndex: 101766 entries, 0 to 101765\n",
      "Data columns (total 50 columns):\n",
      " #   Column                    Non-Null Count   Dtype \n",
      "---  ------                    --------------   ----- \n",
      " 0   encounter_id              101766 non-null  int64 \n",
      " 1   patient_nbr               101766 non-null  int64 \n",
      " 2   race                      99493 non-null   object\n",
      " 3   gender                    101763 non-null  object\n",
      " 4   age                       101766 non-null  object\n",
      " 5   weight                    3197 non-null    object\n",
      " 6   admission_type_id         101766 non-null  int64 \n",
      " 7   discharge_disposition_id  101766 non-null  int64 \n",
      " 8   admission_source_id       101766 non-null  int64 \n",
      " 9   time_in_hospital          101766 non-null  int64 \n",
      " 10  payer_code                61510 non-null   object\n",
      " 11  medical_specialty         51817 non-null   object\n",
      " 12  num_lab_procedures        101766 non-null  int64 \n",
      " 13  num_procedures            101766 non-null  int64 \n",
      " 14  num_medications           101766 non-null  int64 \n",
      " 15  number_outpatient         101766 non-null  int64 \n",
      " 16  number_emergency          101766 non-null  int64 \n",
      " 17  number_inpatient          101766 non-null  int64 \n",
      " 18  diag_1                    101745 non-null  object\n",
      " 19  diag_2                    101408 non-null  object\n",
      " 20  diag_3                    100343 non-null  object\n",
      " 21  number_diagnoses          101766 non-null  int64 \n",
      " 22  max_glu_serum             5346 non-null    object\n",
      " 23  A1Cresult                 17018 non-null   object\n",
      " 24  metformin                 101766 non-null  object\n",
      " 25  repaglinide               101766 non-null  object\n",
      " 26  nateglinide               101766 non-null  object\n",
      " 27  chlorpropamide            101766 non-null  object\n",
      " 28  glimepiride               101766 non-null  object\n",
      " 29  acetohexamide             101766 non-null  object\n",
      " 30  glipizide                 101766 non-null  object\n",
      " 31  glyburide                 101766 non-null  object\n",
      " 32  tolbutamide               101766 non-null  object\n",
      " 33  pioglitazone              101766 non-null  object\n",
      " 34  rosiglitazone             101766 non-null  object\n",
      " 35  acarbose                  101766 non-null  object\n",
      " 36  miglitol                  101766 non-null  object\n",
      " 37  troglitazone              101766 non-null  object\n",
      " 38  tolazamide                101766 non-null  object\n",
      " 39  examide                   101766 non-null  object\n",
      " 40  citoglipton               101766 non-null  object\n",
      " 41  insulin                   101766 non-null  object\n",
      " 42  glyburide-metformin       101766 non-null  object\n",
      " 43  glipizide-metformin       101766 non-null  object\n",
      " 44  glimepiride-pioglitazone  101766 non-null  object\n",
      " 45  metformin-rosiglitazone   101766 non-null  object\n",
      " 46  metformin-pioglitazone    101766 non-null  object\n",
      " 47  change                    101766 non-null  object\n",
      " 48  diabetesMed               101766 non-null  object\n",
      " 49  readmitted                101766 non-null  object\n",
      "dtypes: int64(13), object(37)\n",
      "memory usage: 38.8+ MB\n"
     ]
    }
   ],
   "source": [
    "raw_df.info()"
   ]
  },
  {
   "cell_type": "markdown",
   "metadata": {},
   "source": [
    "## Execution"
   ]
  },
  {
   "cell_type": "code",
   "execution_count": 8,
   "metadata": {},
   "outputs": [],
   "source": [
    "raw_df['readmitted'] = np.where(raw_df['readmitted'] == 'NO', 0, 1)"
   ]
  },
  {
   "cell_type": "code",
   "execution_count": 9,
   "metadata": {},
   "outputs": [],
   "source": [
    "# X features names\n",
    "features_type = {'qualitative': [\n",
    "                    'encounter_id',\n",
    "                    'patient_nbr',\n",
    "                    'race',\n",
    "                    'gender',\n",
    "                    'age',\n",
    "                    'weight',\n",
    "                    'admission_type_id',\n",
    "                    'discharge_disposition_id',\n",
    "                    'admission_source_id',\n",
    "                    'payer_code',\n",
    "                    'medical_specialty',\n",
    "                    'diag_1',\n",
    "                    'diag_2',\n",
    "                    'diag_3',\n",
    "                    'max_glu_serum',\n",
    "                    'A1Cresult',\n",
    "\n",
    "                    'metformin', \n",
    "                    'repaglinide',\n",
    "                    'nateglinide',\n",
    "                    'chlorpropamide',\n",
    "                    'glimepiride', \n",
    "                    'acetohexamide',\n",
    "                    'glipizide',\n",
    "                    'glyburide',\n",
    "                    'tolbutamide',\n",
    "                    'pioglitazone',\n",
    "                    'rosiglitazone',\n",
    "                    'acarbose',\n",
    "                    'miglitol',\n",
    "                    'troglitazone',\n",
    "                    'tolazamide',\n",
    "                    'examide',\n",
    "                    'citoglipton',\n",
    "                    'insulin',\n",
    "                    'glyburide-metformin',\n",
    "                    'glipizide-metformin',\n",
    "                    'glimepiride-pioglitazone',\n",
    "                    'metformin-rosiglitazone',\n",
    "                    'metformin-pioglitazone',\n",
    "                    'change',\n",
    "                    'diabetesMed'\n",
    "                                ],\n",
    "                'quantitative': [\n",
    "                    'time_in_hospital',\n",
    "                    'num_lab_procedures',\n",
    "                    'num_procedures',\n",
    "                    'num_medications',\n",
    "                    'number_outpatient', \n",
    "                    'number_emergency',\n",
    "                    'number_inpatient',\n",
    "                    'number_diagnoses'\n",
    "                                ]\n",
    "                }\n",
    "\n",
    "# target name\n",
    "y_name = 'readmitted'\n",
    "\n",
    "data = raw_df.copy()\n",
    "\n",
    "path_output = '../data/output/diabetes/'"
   ]
  },
  {
   "cell_type": "code",
   "execution_count": 10,
   "metadata": {},
   "outputs": [],
   "source": [
    "config = {}\n",
    "config['test_size']        = 0.25\n",
    "config['min_missing']      = 0.25\n",
    "config['outliers_method']  = 'lof'\n",
    "config['alpha_sta']        = 0.05\n",
    "config['strategy_missing'] = 'median'\n",
    "config['method_scale']     = 'standard'\n",
    "config['metric_train']     = 'roc_auc'\n",
    "config['seed']             = 42\n",
    "config['njobs']            = -1"
   ]
  },
  {
   "cell_type": "code",
   "execution_count": 11,
   "metadata": {},
   "outputs": [],
   "source": [
    "from datetime import datetime\n",
    "from octopus import OctopusProcess\n",
    "from octopus import OctopusPrepare\n",
    "from octopus import OctopusTrain\n",
    "from octopus import OctopusEvaluate"
   ]
  },
  {
   "cell_type": "markdown",
   "metadata": {},
   "source": [
    "### Octopus Process"
   ]
  },
  {
   "cell_type": "code",
   "execution_count": 12,
   "metadata": {
    "scrolled": true
   },
   "outputs": [
    {
     "name": "stderr",
     "output_type": "stream",
     "text": [
      "2021-05-29 15:07:50,332 INFO: Started to check the features consistency\n",
      "2021-05-29 15:07:50,427 INFO: feature: discharge_disposition_idre-categorized\n",
      "2021-05-29 15:07:50,477 INFO: feature: admission_source_idre-categorized\n",
      "2021-05-29 15:07:50,488 INFO: feature: payer_codere-categorized\n",
      "2021-05-29 15:07:50,499 INFO: feature: medical_specialtyre-categorized\n",
      "2021-05-29 15:07:50,796 INFO: Features: ['encounter_id', 'patient_nbr', 'diag_1', 'diag_2', 'diag_3', 'nateglinide', 'chlorpropamide', 'acetohexamide', 'tolbutamide', 'acarbose', 'miglitol', 'troglitazone', 'tolazamide', 'examide', 'citoglipton', 'glyburide-metformin', 'glipizide-metformin', 'glimepiride-pioglitazone', 'metformin-rosiglitazone', 'metformin-pioglitazone'] were removed because its distribution\n",
      "2021-05-29 15:07:50,797 INFO: Consistency values finished!\n",
      "2021-05-29 15:07:50,867 INFO: Feature race was imputer with \"other\"\n",
      "2021-05-29 15:07:50,873 INFO: Feature gender was imputer with \"other\"\n",
      "2021-05-29 15:07:50,892 INFO: Features: ['weight', 'max_glu_serum', 'A1Cresult'] were removed because the missing values\n",
      "2021-05-29 15:07:50,893 INFO: Check the missing values finished!\n",
      "2021-05-29 15:07:50,894 INFO: Cast features is starting...\n",
      "2021-05-29 15:07:51,632 INFO: Cast features finished!\n",
      "2021-05-29 15:07:51,649 INFO: Detect outliers started\n",
      "2021-05-29 15:07:51,650 INFO: Local Outlier Factor method selected\n",
      "2021-05-29 15:08:39,923 INFO: Detected 437 outliers\n",
      "2021-05-29 15:08:39,924 INFO: Detect outliers finished\n"
     ]
    },
    {
     "data": {
      "text/plain": [
       "<Figure size 432x288 with 0 Axes>"
      ]
     },
     "metadata": {},
     "output_type": "display_data"
    }
   ],
   "source": [
    "octoProcess = OctopusProcess(\n",
    "                    test_size        = config['test_size'],\n",
    "                    min_missing_values = config['min_missing'],\n",
    "                    outliers_method  = config['outliers_method'],\n",
    "                    alpha_sta        = config['alpha_sta'],\n",
    "                    seed             = config['seed'])\n",
    "\n",
    "train, test, features_type, html = octoProcess.process_data(data   = data, \n",
    "                                                            y_name = y_name,\n",
    "                                                            features_type = features_type,\n",
    "                                                            path_output   = path_output)\n",
    "\n",
    "X_train, y_train = train\n",
    "X_test, y_test = test"
   ]
  },
  {
   "cell_type": "markdown",
   "metadata": {},
   "source": [
    "### Octopus Prepare"
   ]
  },
  {
   "cell_type": "code",
   "execution_count": 13,
   "metadata": {},
   "outputs": [],
   "source": [
    "octoPrepare = OctopusPrepare(\n",
    "                    strategy_missing = config['strategy_missing'],\n",
    "                    method_scale     = config['method_scale'])\n",
    "\n",
    "preparessor = octoPrepare.prepare_pipeline(features_type = features_type)"
   ]
  },
  {
   "cell_type": "markdown",
   "metadata": {},
   "source": [
    "### Octopus Train"
   ]
  },
  {
   "cell_type": "code",
   "execution_count": 16,
   "metadata": {
    "scrolled": true
   },
   "outputs": [
    {
     "name": "stdout",
     "output_type": "stream",
     "text": [
      "Logistic Regression is going to be fitted\n",
      "Logistic Regression fitted\n",
      "Regularized Logistic Regression is going to be fitted\n",
      "Regularized Logistic Regression fitted\n",
      "Random Forest is going to be fitted\n",
      "|   iter    |  target   | max_depth | max_fe... | min_sa... | min_sa... | n_esti... |\n",
      "-------------------------------------------------------------------------------------\n",
      "| \u001b[0m 1       \u001b[0m | \u001b[0m 0.6701  \u001b[0m | \u001b[0m 4.996   \u001b[0m | \u001b[0m 0.9547  \u001b[0m | \u001b[0m 37.94   \u001b[0m | \u001b[0m 65.89   \u001b[0m | \u001b[0m 120.2   \u001b[0m |\n",
      "| \u001b[95m 2       \u001b[0m | \u001b[95m 0.6723  \u001b[0m | \u001b[95m 3.248   \u001b[0m | \u001b[95m 0.1522  \u001b[0m | \u001b[95m 43.98   \u001b[0m | \u001b[95m 66.09   \u001b[0m | \u001b[95m 368.6   \u001b[0m |\n",
      "| \u001b[0m 3       \u001b[0m | \u001b[0m 0.6499  \u001b[0m | \u001b[0m 2.165   \u001b[0m | \u001b[0m 0.9719  \u001b[0m | \u001b[0m 42.46   \u001b[0m | \u001b[0m 33.05   \u001b[0m | \u001b[0m 131.8   \u001b[0m |\n",
      "| \u001b[0m 4       \u001b[0m | \u001b[0m 0.6693  \u001b[0m | \u001b[0m 3.467   \u001b[0m | \u001b[0m 0.3735  \u001b[0m | \u001b[0m 28.61   \u001b[0m | \u001b[0m 51.72   \u001b[0m | \u001b[0m 181.1   \u001b[0m |\n",
      "| \u001b[95m 5       \u001b[0m | \u001b[95m 0.6814  \u001b[0m | \u001b[95m 6.895   \u001b[0m | \u001b[95m 0.2254  \u001b[0m | \u001b[95m 18.15   \u001b[0m | \u001b[95m 46.14   \u001b[0m | \u001b[95m 255.2   \u001b[0m |\n",
      "| \u001b[95m 6       \u001b[0m | \u001b[95m 0.6848  \u001b[0m | \u001b[95m 7.872   \u001b[0m | \u001b[95m 0.1243  \u001b[0m | \u001b[95m 18.16   \u001b[0m | \u001b[95m 45.28   \u001b[0m | \u001b[95m 256.2   \u001b[0m |\n",
      "| \u001b[0m 7       \u001b[0m | \u001b[0m 0.6813  \u001b[0m | \u001b[0m 7.299   \u001b[0m | \u001b[0m 0.2324  \u001b[0m | \u001b[0m 17.59   \u001b[0m | \u001b[0m 38.98   \u001b[0m | \u001b[0m 259.6   \u001b[0m |\n",
      "| \u001b[95m 8       \u001b[0m | \u001b[95m 0.6869  \u001b[0m | \u001b[95m 9.745   \u001b[0m | \u001b[95m 0.3735  \u001b[0m | \u001b[95m 17.44   \u001b[0m | \u001b[95m 45.08   \u001b[0m | \u001b[95m 266.1   \u001b[0m |\n",
      "| \u001b[95m 9       \u001b[0m | \u001b[95m 0.6886  \u001b[0m | \u001b[95m 9.805   \u001b[0m | \u001b[95m 0.1403  \u001b[0m | \u001b[95m 28.99   \u001b[0m | \u001b[95m 43.23   \u001b[0m | \u001b[95m 262.2   \u001b[0m |\n",
      "| \u001b[0m 10      \u001b[0m | \u001b[0m 0.6862  \u001b[0m | \u001b[0m 9.198   \u001b[0m | \u001b[0m 0.1487  \u001b[0m | \u001b[0m 32.64   \u001b[0m | \u001b[0m 52.93   \u001b[0m | \u001b[0m 269.7   \u001b[0m |\n",
      "| \u001b[0m 11      \u001b[0m | \u001b[0m 0.6874  \u001b[0m | \u001b[0m 10.0    \u001b[0m | \u001b[0m 0.1     \u001b[0m | \u001b[0m 43.26   \u001b[0m | \u001b[0m 48.75   \u001b[0m | \u001b[0m 258.2   \u001b[0m |\n",
      "| \u001b[0m 12      \u001b[0m | \u001b[0m 0.6874  \u001b[0m | \u001b[0m 10.0    \u001b[0m | \u001b[0m 0.1     \u001b[0m | \u001b[0m 43.27   \u001b[0m | \u001b[0m 39.46   \u001b[0m | \u001b[0m 271.0   \u001b[0m |\n",
      "| \u001b[0m 13      \u001b[0m | \u001b[0m 0.6837  \u001b[0m | \u001b[0m 9.212   \u001b[0m | \u001b[0m 0.5558  \u001b[0m | \u001b[0m 49.69   \u001b[0m | \u001b[0m 51.85   \u001b[0m | \u001b[0m 277.0   \u001b[0m |\n",
      "| \u001b[0m 14      \u001b[0m | \u001b[0m 0.6846  \u001b[0m | \u001b[0m 10.0    \u001b[0m | \u001b[0m 0.999   \u001b[0m | \u001b[0m 44.81   \u001b[0m | \u001b[0m 32.01   \u001b[0m | \u001b[0m 255.4   \u001b[0m |\n",
      "| \u001b[0m 15      \u001b[0m | \u001b[0m 0.6717  \u001b[0m | \u001b[0m 3.248   \u001b[0m | \u001b[0m 0.2073  \u001b[0m | \u001b[0m 35.38   \u001b[0m | \u001b[0m 40.83   \u001b[0m | \u001b[0m 286.0   \u001b[0m |\n",
      "=====================================================================================\n",
      "Random Forest fitted\n",
      "XGBoost is going to be fitted\n",
      "|   iter    |  target   | colsam... |    eta    | max_depth | n_esti... |\n",
      "-------------------------------------------------------------------------\n",
      "| \u001b[0m 1       \u001b[0m | \u001b[0m 0.6613  \u001b[0m | \u001b[0m 0.4367  \u001b[0m | \u001b[0m 0.3803  \u001b[0m | \u001b[0m 7.856   \u001b[0m | \u001b[0m 319.4   \u001b[0m |\n",
      "| \u001b[95m 2       \u001b[0m | \u001b[95m 0.69    \u001b[0m | \u001b[95m 0.2403  \u001b[0m | \u001b[95m 0.06324 \u001b[0m | \u001b[95m 2.465   \u001b[0m | \u001b[95m 439.8   \u001b[0m |\n",
      "| \u001b[95m 3       \u001b[0m | \u001b[95m 0.6967  \u001b[0m | \u001b[95m 0.6404  \u001b[0m | \u001b[95m 0.2835  \u001b[0m | \u001b[95m 2.165   \u001b[0m | \u001b[95m 486.5   \u001b[0m |\n",
      "| \u001b[0m 4       \u001b[0m | \u001b[0m 0.6898  \u001b[0m | \u001b[0m 0.8484  \u001b[0m | \u001b[0m 0.08572 \u001b[0m | \u001b[0m 3.455   \u001b[0m | \u001b[0m 132.5   \u001b[0m |\n",
      "| \u001b[95m 5       \u001b[0m | \u001b[95m 0.6971  \u001b[0m | \u001b[95m 0.3735  \u001b[0m | \u001b[95m 0.2104  \u001b[0m | \u001b[95m 5.456   \u001b[0m | \u001b[95m 181.1   \u001b[0m |\n",
      "| \u001b[0m 6       \u001b[0m | \u001b[0m 0.6839  \u001b[0m | \u001b[0m 0.1     \u001b[0m | \u001b[0m 0.4     \u001b[0m | \u001b[0m 10.0    \u001b[0m | \u001b[0m 50.0    \u001b[0m |\n",
      "| \u001b[0m 7       \u001b[0m | \u001b[0m 0.6768  \u001b[0m | \u001b[0m 0.9593  \u001b[0m | \u001b[0m 0.02734 \u001b[0m | \u001b[0m 2.291   \u001b[0m | \u001b[0m 224.3   \u001b[0m |\n",
      "| \u001b[0m 8       \u001b[0m | \u001b[0m 0.694   \u001b[0m | \u001b[0m 0.9519  \u001b[0m | \u001b[0m 0.3573  \u001b[0m | \u001b[0m 4.382   \u001b[0m | \u001b[0m 181.3   \u001b[0m |\n",
      "| \u001b[0m 9       \u001b[0m | \u001b[0m 0.6944  \u001b[0m | \u001b[0m 0.9183  \u001b[0m | \u001b[0m 0.02999 \u001b[0m | \u001b[0m 9.884   \u001b[0m | \u001b[0m 175.2   \u001b[0m |\n",
      "| \u001b[0m 10      \u001b[0m | \u001b[0m 0.6652  \u001b[0m | \u001b[0m 0.1586  \u001b[0m | \u001b[0m 0.3809  \u001b[0m | \u001b[0m 9.671   \u001b[0m | \u001b[0m 188.6   \u001b[0m |\n",
      "| \u001b[95m 11      \u001b[0m | \u001b[95m 0.6978  \u001b[0m | \u001b[95m 0.2624  \u001b[0m | \u001b[95m 0.1655  \u001b[0m | \u001b[95m 4.054   \u001b[0m | \u001b[95m 175.7   \u001b[0m |\n",
      "| \u001b[0m 12      \u001b[0m | \u001b[0m 0.6881  \u001b[0m | \u001b[0m 0.6265  \u001b[0m | \u001b[0m 0.0969  \u001b[0m | \u001b[0m 8.304   \u001b[0m | \u001b[0m 490.8   \u001b[0m |\n",
      "| \u001b[0m 13      \u001b[0m | \u001b[0m 0.6956  \u001b[0m | \u001b[0m 0.447   \u001b[0m | \u001b[0m 0.333   \u001b[0m | \u001b[0m 3.153   \u001b[0m | \u001b[0m 479.1   \u001b[0m |\n",
      "| \u001b[0m 14      \u001b[0m | \u001b[0m 0.6893  \u001b[0m | \u001b[0m 0.7298  \u001b[0m | \u001b[0m 0.05585 \u001b[0m | \u001b[0m 9.999   \u001b[0m | \u001b[0m 480.2   \u001b[0m |\n",
      "| \u001b[0m 15      \u001b[0m | \u001b[0m 0.6941  \u001b[0m | \u001b[0m 0.1     \u001b[0m | \u001b[0m 0.1981  \u001b[0m | \u001b[0m 3.343   \u001b[0m | \u001b[0m 166.6   \u001b[0m |\n",
      "=========================================================================\n",
      "XGBoost fitted\n",
      "Time execution training models: 1:37:23.412285\n"
     ]
    }
   ],
   "source": [
    "start = datetime.now()\n",
    "\n",
    "octoTrain = OctopusTrain(metric     = config['metric_train'],\n",
    "                         njobs      = config['njobs'],\n",
    "                         seed       = config['seed'])\n",
    "\n",
    "models_trained = octoTrain.train(X_train, y_train, preparessor)\n",
    "\n",
    "finish = datetime.now()\n",
    "print('Time execution training models:', finish - start)"
   ]
  },
  {
   "cell_type": "markdown",
   "metadata": {},
   "source": [
    "### Octopus Evaluate"
   ]
  },
  {
   "cell_type": "code",
   "execution_count": 17,
   "metadata": {},
   "outputs": [
    {
     "name": "stdout",
     "output_type": "stream",
     "text": [
      "LR model: roc_auc = 0.683720 (0.004626)\n",
      "LRR model: roc_auc = 0.683726 (0.004622)\n",
      "RF model: roc_auc = 0.688278 (0.005443)\n",
      "XGB model: roc_auc = 0.698660 (0.004856)\n",
      "Time execution testing models: 0:10:27.415559\n"
     ]
    },
    {
     "data": {
      "text/plain": [
       "<Figure size 432x288 with 0 Axes>"
      ]
     },
     "metadata": {},
     "output_type": "display_data"
    },
    {
     "data": {
      "text/plain": [
       "<Figure size 720x288 with 0 Axes>"
      ]
     },
     "metadata": {},
     "output_type": "display_data"
    }
   ],
   "source": [
    "start = datetime.now()\n",
    "\n",
    "OctoEval = OctopusEvaluate(metric = config['metric_train'],\n",
    "                           seed   = config['seed'])\n",
    "\n",
    "best_model, metrics_df = OctoEval.evaluate(X_train, \n",
    "                                           y_train,\n",
    "                                           X_test,\n",
    "                                           y_test,\n",
    "                                           models_trained,\n",
    "                                           path_output)\n",
    "\n",
    "finish = datetime.now()\n",
    "print('Time execution testing models:', finish - start)"
   ]
  },
  {
   "cell_type": "markdown",
   "metadata": {},
   "source": [
    "### Renderize HTML"
   ]
  },
  {
   "cell_type": "code",
   "execution_count": 18,
   "metadata": {},
   "outputs": [],
   "source": [
    "from utils import renderize_html"
   ]
  },
  {
   "cell_type": "code",
   "execution_count": 19,
   "metadata": {},
   "outputs": [],
   "source": [
    "path_html = os.path.join(path_output, 'report.html')\n",
    "renderize_html(html, path_html)"
   ]
  },
  {
   "cell_type": "code",
   "execution_count": null,
   "metadata": {},
   "outputs": [],
   "source": []
  }
 ],
 "metadata": {
  "kernelspec": {
   "display_name": "Python 3",
   "language": "python",
   "name": "python3"
  },
  "language_info": {
   "codemirror_mode": {
    "name": "ipython",
    "version": 3
   },
   "file_extension": ".py",
   "mimetype": "text/x-python",
   "name": "python",
   "nbconvert_exporter": "python",
   "pygments_lexer": "ipython3",
   "version": "3.7.10"
  }
 },
 "nbformat": 4,
 "nbformat_minor": 4
}
